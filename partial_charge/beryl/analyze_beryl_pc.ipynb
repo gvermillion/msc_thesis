{
 "cells": [
  {
   "cell_type": "markdown",
   "metadata": {
    "toc": true
   },
   "source": [
    "<h1>Table of Contents<span class=\"tocSkip\"></span></h1>\n",
    "<div class=\"toc\"><ul class=\"toc-item\"><li><span><a href=\"#Setup\" data-toc-modified-id=\"Setup-1\"><span class=\"toc-item-num\">1&nbsp;&nbsp;</span>Setup</a></span><ul class=\"toc-item\"><li><span><a href=\"#Import-Stuff\" data-toc-modified-id=\"Import-Stuff-1.1\"><span class=\"toc-item-num\">1.1&nbsp;&nbsp;</span>Import Stuff</a></span></li><li><span><a href=\"#Some-Anonymous-Functions\" data-toc-modified-id=\"Some-Anonymous-Functions-1.2\"><span class=\"toc-item-num\">1.2&nbsp;&nbsp;</span>Some Anonymous Functions</a></span></li><li><span><a href=\"#Named-Functions\" data-toc-modified-id=\"Named-Functions-1.3\"><span class=\"toc-item-num\">1.3&nbsp;&nbsp;</span>Named Functions</a></span></li><li><span><a href=\"#Tidy-Data\" data-toc-modified-id=\"Tidy-Data-1.4\"><span class=\"toc-item-num\">1.4&nbsp;&nbsp;</span>Tidy Data</a></span></li></ul></li><li><span><a href=\"#Dipole-Analysis\" data-toc-modified-id=\"Dipole-Analysis-2\"><span class=\"toc-item-num\">2&nbsp;&nbsp;</span>Dipole Analysis</a></span><ul class=\"toc-item\"><li><span><a href=\"#By-Fill\" data-toc-modified-id=\"By-Fill-2.1\"><span class=\"toc-item-num\">2.1&nbsp;&nbsp;</span>By Fill</a></span></li><li><span><a href=\"#Average-Dipole-vs-Fill\" data-toc-modified-id=\"Average-Dipole-vs-Fill-2.2\"><span class=\"toc-item-num\">2.2&nbsp;&nbsp;</span>Average Dipole vs Fill</a></span></li></ul></li></ul></div>"
   ]
  },
  {
   "cell_type": "markdown",
   "metadata": {},
   "source": [
    "# Setup\n",
    "\n",
    "## Import Stuff"
   ]
  },
  {
   "cell_type": "code",
   "execution_count": 2,
   "metadata": {
    "code_folding": [],
    "scrolled": true
   },
   "outputs": [
    {
     "name": "stdout",
     "output_type": "stream",
     "text": [
      "Pickled data sucessfully loaded.\n",
      "Extracting system info.\n",
      "Done.\n"
     ]
    },
    {
     "data": {
      "text/html": [
       "<div>\n",
       "<style scoped>\n",
       "    .dataframe tbody tr th:only-of-type {\n",
       "        vertical-align: middle;\n",
       "    }\n",
       "\n",
       "    .dataframe tbody tr th {\n",
       "        vertical-align: top;\n",
       "    }\n",
       "\n",
       "    .dataframe thead th {\n",
       "        text-align: right;\n",
       "    }\n",
       "</style>\n",
       "<table border=\"1\" class=\"dataframe\">\n",
       "  <thead>\n",
       "    <tr style=\"text-align: right;\">\n",
       "      <th></th>\n",
       "      <th>dipoles</th>\n",
       "      <th>total_dipole</th>\n",
       "      <th>config</th>\n",
       "      <th>couple</th>\n",
       "      <th>fill</th>\n",
       "      <th>run</th>\n",
       "    </tr>\n",
       "  </thead>\n",
       "  <tbody>\n",
       "    <tr>\n",
       "      <th>0</th>\n",
       "      <td>[1.8791390471613083]</td>\n",
       "      <td>1.879139</td>\n",
       "      <td>27</td>\n",
       "      <td>ferro</td>\n",
       "      <td>1000</td>\n",
       "      <td>0</td>\n",
       "    </tr>\n",
       "    <tr>\n",
       "      <th>1</th>\n",
       "      <td>[1.9353254829151072]</td>\n",
       "      <td>1.935325</td>\n",
       "      <td>16</td>\n",
       "      <td>ferro</td>\n",
       "      <td>1000</td>\n",
       "      <td>2</td>\n",
       "    </tr>\n",
       "    <tr>\n",
       "      <th>2</th>\n",
       "      <td>[2.157301949811334]</td>\n",
       "      <td>2.157302</td>\n",
       "      <td>27</td>\n",
       "      <td>ferro</td>\n",
       "      <td>1000</td>\n",
       "      <td>2</td>\n",
       "    </tr>\n",
       "    <tr>\n",
       "      <th>3</th>\n",
       "      <td>[1.9414440411779332]</td>\n",
       "      <td>1.941444</td>\n",
       "      <td>45</td>\n",
       "      <td>ferro</td>\n",
       "      <td>1000</td>\n",
       "      <td>2</td>\n",
       "    </tr>\n",
       "    <tr>\n",
       "      <th>4</th>\n",
       "      <td>[1.9356421321886803]</td>\n",
       "      <td>1.935642</td>\n",
       "      <td>16</td>\n",
       "      <td>ferro</td>\n",
       "      <td>1000</td>\n",
       "      <td>1</td>\n",
       "    </tr>\n",
       "  </tbody>\n",
       "</table>\n",
       "</div>"
      ],
      "text/plain": [
       "                dipoles  total_dipole  config couple  fill  run\n",
       "0  [1.8791390471613083]      1.879139      27  ferro  1000    0\n",
       "1  [1.9353254829151072]      1.935325      16  ferro  1000    2\n",
       "2   [2.157301949811334]      2.157302      27  ferro  1000    2\n",
       "3  [1.9414440411779332]      1.941444      45  ferro  1000    2\n",
       "4  [1.9356421321886803]      1.935642      16  ferro  1000    1"
      ]
     },
     "execution_count": 2,
     "metadata": {},
     "output_type": "execute_result"
    }
   ],
   "source": [
    "import pickle as pkl\n",
    "import pandas as pd\n",
    "import matplotlib.pyplot as plt\n",
    "import matplotlib.gridspec as GS\n",
    "import numpy as np\n",
    "import seaborn as sns\n",
    "%matplotlib inline\n",
    "\n",
    "sns.set()\n",
    "\n",
    "try:\n",
    "    with open(\"tidy_data/beryl_pc.pkl\",\"rb\") as file_in:\n",
    "        raw_data = pkl.load(file_in)\n",
    "        print(\"Pickled data sucessfully loaded.\")\n",
    "        raw_df = pd.DataFrame(raw_data)\n",
    "except:\n",
    "    print(\"Error loading data.\")\n",
    "    \n",
    "print(\"Extracting system info.\")\n",
    "infos = []\n",
    "for idx,row in raw_df.iterrows():\n",
    "    infos.append(row.sys_info)\n",
    "    \n",
    "info_df = pd.DataFrame(infos)\n",
    "info_df.head()\n",
    "raw_df = (pd.concat([raw_df,info_df],axis=1)\n",
    "          .drop([\"fpath\",\"sys_info\"],axis=1))\n",
    "print(\"Done.\")\n",
    "raw_df.head()\n"
   ]
  },
  {
   "cell_type": "markdown",
   "metadata": {},
   "source": [
    "## Some Anonymous Functions"
   ]
  },
  {
   "cell_type": "code",
   "execution_count": 3,
   "metadata": {
    "scrolled": true
   },
   "outputs": [],
   "source": [
    "filter_by_fill = lambda fill,df: df[df.fill == fill]\n",
    "filter_by_couple = (lambda couple,df: df[df.couple == couple]\n",
    "                    .sort_values([\"config\",\"run\"],axis=0))\n",
    "                   # .set_index([\"config\"]))\n",
    "filter_by_config = lambda config,df: df[df.config == config]\n",
    "filter_by_type = lambda type_,df: df[df.type == type_]\n",
    "flatten = lambda x: [j for i in x for j in i]\n",
    "get_dipoles = lambda df: flatten(df.dipoles.values)\n",
    "get_total_dipole = lambda df: df.total_dipole.values\n",
    "\n",
    "drop_outliers = lambda df: df.drop(df.index[return_outliers(df.total_dipole)])"
   ]
  },
  {
   "cell_type": "markdown",
   "metadata": {},
   "source": [
    "## Named Functions"
   ]
  },
  {
   "cell_type": "code",
   "execution_count": 4,
   "metadata": {
    "scrolled": true
   },
   "outputs": [],
   "source": [
    "def reject_outliers(data, m = 1.):\n",
    "        '''Used modified Z-score itl.nist.gov/div898/handbook/eda/section3/eda35h.htm '''\n",
    "        data = np.array(data)\n",
    "        d = np.abs(data - np.median(data))\n",
    "        mdev = np.median(d)\n",
    "        s = d/mdev if mdev else 0.\n",
    "        return data[s<m]\n",
    "    \n",
    "def return_outliers(data, m = 1.0):\n",
    "    '''Used modified Z-score itl.nist.gov/div898/handbook/eda/section3/eda35h.htm '''\n",
    "    data = np.array(data)\n",
    "    d = np.abs(data - np.median(data))\n",
    "    mdev = np.median(d)\n",
    "    s = d/mdev if mdev else 0.\n",
    "    reject = list(data[s>=m])\n",
    "    return [list(data).index(i) for i in reject]\n",
    "\n",
    "\n",
    "def get_fill_df(couple,fill,m=1.0):   \n",
    "    entries = []\n",
    "    for config in list(set(raw_df.config.values)):\n",
    "        \n",
    "        try:\n",
    "            df = filter_by_config(config,filter_by_couple(couple,filter_by_fill(fill,raw_df)))\n",
    "            dipoles = get_dipoles(df)\n",
    "            total_dipole = get_total_dipole(df)\n",
    "            df = drop_outliers(df)\n",
    "            clean_dipoles = get_dipoles(df)\n",
    "            clean_total_dipole = get_total_dipole(df)\n",
    "\n",
    "            entry = {'couple':couple, 'fill':fill, 'config':config, \n",
    "                     'raw_dipoles':dipoles,'clean_dipoles':clean_dipoles,\n",
    "                     'raw_total_dipole':total_dipole,'clean_total_dipole':clean_total_dipole}\n",
    "\n",
    "            entries.append(entry)\n",
    "        except:\n",
    "            print(\"Error: {} {} {} \".format(couple,fill,config))\n",
    "        \n",
    "    return pd.DataFrame(entries)\n",
    "\n",
    "\n",
    "\n",
    "def make_dipole_plots(fill):\n",
    "    df = filter_by_fill(fill,tidy_df)\n",
    "    df_d = filter_by_type('dipole',df)\n",
    "    df_td = filter_by_type('total_dipole',df)\n",
    "\n",
    "\n",
    "    fig = plt.figure(figsize=(12,8))\n",
    "\n",
    "    gs = GS.GridSpec(nrows=5,ncols=4,figure=fig,hspace=0.7)\n",
    "    ax1 = plt.subplot(gs[:2,:2])\n",
    "    ax2 = plt.subplot(gs[:2,2:])\n",
    "    ax3 = plt.subplot(gs[2:,:])\n",
    "\n",
    "    fig.suptitle(\"Dipole Analysis\\nFill: {}\".format(fill),fontsize=16)\n",
    "\n",
    "    # Dipole by Configuratio\n",
    "    for i in np.arange(60):\n",
    "        config = filter_by_config(i,df_d)\n",
    "        sns.kdeplot(config.value.values,ax=ax1)\n",
    "\n",
    "\n",
    "    # Dipole and Total Dipole all Configurations\n",
    "\n",
    "    if fill == 1000:\n",
    "        sns.kdeplot(df_td.value.values,label=\"Total Dipole\",ax=ax2)\n",
    "        sns.kdeplot(df_d.value.values,label=\"Dipole\",ax=ax2,shade=True)\n",
    "    else:\n",
    "        sns.kdeplot(df_d.value.values,ax=ax2,shade=True)\n",
    "\n",
    "\n",
    "    # Barplot Dipole\n",
    "    sns.barplot(x=\"config\",y=\"value\",data=df_d,ax=ax3)\n",
    "\n",
    "    # Plot average on barplot\n",
    "    ax3.axhline(df_d.value.mean(),ls=\"--\",color=\"red\")\n",
    "\n",
    "    # Set axis limits based on barlot y-limits \n",
    "    lim = ax3.get_ylim()\n",
    "    ax1.set(xlim=lim);\n",
    "    ax2.set(xlim=lim);\n",
    "\n",
    "    # Axis formatting\n",
    "    ax1.set(xlabel=\"Dipole per Config [Debye]\",ylabel=\"Density [a.u.]\",yticklabels=[])\n",
    "    ax2.set(xlabel=\"Dipole all Configs [Debye]\",yticklabels=[])\n",
    "    ax3.set(xlabel=\"Config\",ylabel=\"Dipole [Debye]\")\n",
    "    _ = [l.set_visible(False) for (i,l) in enumerate(ax3.xaxis.get_ticklabels()) if i % 2 != 0]\n",
    "\n"
   ]
  },
  {
   "cell_type": "markdown",
   "metadata": {},
   "source": [
    "## Tidy Data"
   ]
  },
  {
   "cell_type": "code",
   "execution_count": 5,
   "metadata": {
    "scrolled": true
   },
   "outputs": [
    {
     "data": {
      "text/html": [
       "<div>\n",
       "<style scoped>\n",
       "    .dataframe tbody tr th:only-of-type {\n",
       "        vertical-align: middle;\n",
       "    }\n",
       "\n",
       "    .dataframe tbody tr th {\n",
       "        vertical-align: top;\n",
       "    }\n",
       "\n",
       "    .dataframe thead th {\n",
       "        text-align: right;\n",
       "    }\n",
       "</style>\n",
       "<table border=\"1\" class=\"dataframe\">\n",
       "  <thead>\n",
       "    <tr style=\"text-align: right;\">\n",
       "      <th></th>\n",
       "      <th>config</th>\n",
       "      <th>couple</th>\n",
       "      <th>fill</th>\n",
       "      <th>run</th>\n",
       "      <th>type</th>\n",
       "      <th>value</th>\n",
       "    </tr>\n",
       "  </thead>\n",
       "  <tbody>\n",
       "    <tr>\n",
       "      <th>0</th>\n",
       "      <td>0</td>\n",
       "      <td>ferro</td>\n",
       "      <td>1000</td>\n",
       "      <td>1</td>\n",
       "      <td>dipole</td>\n",
       "      <td>1.940636</td>\n",
       "    </tr>\n",
       "    <tr>\n",
       "      <th>1</th>\n",
       "      <td>0</td>\n",
       "      <td>ferro</td>\n",
       "      <td>1000</td>\n",
       "      <td>1</td>\n",
       "      <td>total_dipole</td>\n",
       "      <td>1.940636</td>\n",
       "    </tr>\n",
       "    <tr>\n",
       "      <th>2</th>\n",
       "      <td>0</td>\n",
       "      <td>ferro</td>\n",
       "      <td>1000</td>\n",
       "      <td>2</td>\n",
       "      <td>dipole</td>\n",
       "      <td>1.944187</td>\n",
       "    </tr>\n",
       "    <tr>\n",
       "      <th>3</th>\n",
       "      <td>0</td>\n",
       "      <td>ferro</td>\n",
       "      <td>1000</td>\n",
       "      <td>2</td>\n",
       "      <td>total_dipole</td>\n",
       "      <td>1.944187</td>\n",
       "    </tr>\n",
       "    <tr>\n",
       "      <th>4</th>\n",
       "      <td>1</td>\n",
       "      <td>ferro</td>\n",
       "      <td>1000</td>\n",
       "      <td>1</td>\n",
       "      <td>dipole</td>\n",
       "      <td>1.938697</td>\n",
       "    </tr>\n",
       "  </tbody>\n",
       "</table>\n",
       "</div>"
      ],
      "text/plain": [
       "   config couple  fill  run          type     value\n",
       "0       0  ferro  1000    1        dipole  1.940636\n",
       "1       0  ferro  1000    1  total_dipole  1.940636\n",
       "2       0  ferro  1000    2        dipole  1.944187\n",
       "3       0  ferro  1000    2  total_dipole  1.944187\n",
       "4       1  ferro  1000    1        dipole  1.938697"
      ]
     },
     "execution_count": 5,
     "metadata": {},
     "output_type": "execute_result"
    }
   ],
   "source": [
    "fill_dfs = {}\n",
    "fills = set(raw_df.fill.values)\n",
    "for fill in fills:\n",
    "    df = filter_by_fill(fill,raw_df).sort_values([\"config\",\"run\"])\n",
    "    fill_dfs[fill] = df\n",
    "    for config in np.arange(60):\n",
    "        config_df = filter_by_config(config,fill_dfs[fill])\n",
    "        mask = return_outliers(config_df.total_dipole)\n",
    "        rm = config_df.iloc[mask].index.values\n",
    "        fill_dfs[fill].drop(rm,axis=0,inplace=True)\n",
    "\n",
    "\n",
    "tidy_results = []\n",
    "\n",
    "for key in fill_dfs.keys():\n",
    "    df = fill_dfs[key]\n",
    "    for idx,row in df.iterrows():\n",
    "        couple = row['couple']\n",
    "        config = int(row['config'])\n",
    "        fill = int(row['fill'])\n",
    "        run = int(row['run'])\n",
    "        dipoles = row.dipoles\n",
    "        total_dipole = row.total_dipole\n",
    "\n",
    "        for d in dipoles:\n",
    "            tidy = {'couple':couple,'config':config,'fill':fill,\n",
    "                    'run':run,'type':'dipole','value':d}\n",
    "            tidy_results.append(tidy)\n",
    "\n",
    "        tidy = {'couple':couple,'config':config,'fill':fill,\n",
    "                'run':run,'type':'total_dipole','value':total_dipole}\n",
    "\n",
    "        tidy_results.append(tidy)\n",
    "\n",
    "tidy_df = pd.DataFrame(tidy_results)\n",
    "tidy_df.head()"
   ]
  },
  {
   "cell_type": "markdown",
   "metadata": {},
   "source": [
    "# Dipole Analysis"
   ]
  },
  {
   "cell_type": "markdown",
   "metadata": {},
   "source": [
    "## By Fill"
   ]
  },
  {
   "cell_type": "code",
   "execution_count": 6,
   "metadata": {
    "scrolled": false
   },
   "outputs": [
    {
     "data": {
      "image/png": "[encoded data removed]",
      "text/plain": [
       "<Figure size 864x576 with 3 Axes>"
      ]
     },
     "metadata": {
      "needs_background": "light"
     },
     "output_type": "display_data"
    }
   ],
   "source": [
    "make_dipole_plots(1000)"
   ]
  },
  {
   "cell_type": "markdown",
   "metadata": {},
   "source": [
    "## Average Dipole vs Fill"
   ]
  },
  {
   "cell_type": "code",
   "execution_count": 12,
   "metadata": {
    "scrolled": true
   },
   "outputs": [],
   "source": [
    "dipole_avgs = []\n",
    "dipole_sems = []\n",
    "fills = [25]#,50,50,75,100]\n",
    "\n",
    "for fill in fill_dfs.keys():\n",
    "    df = filter_by_fill(fill,tidy_df)\n",
    "    df_d = filter_by_type('dipole',df)\n",
    "    dipole_avgs.append(np.mean(df_d.value.values))\n",
    "    dipole_sems.append(np.std(df_d.value.values)/np.sqrt(len(df_d.value.values)))\n"
   ]
  },
  {
   "cell_type": "code",
   "execution_count": 13,
   "metadata": {
    "scrolled": true
   },
   "outputs": [
    {
     "data": {
      "text/plain": [
       "[0.20903306259408688]"
      ]
     },
     "execution_count": 13,
     "metadata": {},
     "output_type": "execute_result"
    }
   ],
   "source": [
    "dipole_sems"
   ]
  },
  {
   "cell_type": "code",
   "execution_count": 14,
   "metadata": {
    "scrolled": false
   },
   "outputs": [
    {
     "data": {
      "image/png": "[encoded data removed]",
      "text/plain": [
       "<Figure size 720x432 with 1 Axes>"
      ]
     },
     "metadata": {
      "needs_background": "light"
     },
     "output_type": "display_data"
    }
   ],
   "source": [
    "fig = plt.figure(figsize=(10,6))\n",
    "ax = plt.gca()\n",
    "plt.errorbar(fills,dipole_avgs,yerr=dipole_sems,fmt=\"--o\");\n",
    "ax.set(xlabel=\"Fill [%]\",ylabel=\"Dipole [Debye]\");\n"
   ]
  },
  {
   "cell_type": "code",
   "execution_count": null,
   "metadata": {
    "collapsed": true,
    "scrolled": true
   },
   "outputs": [],
   "source": []
  }
 ],
 "metadata": {
  "kernelspec": {
   "display_name": "Python 3",
   "language": "python",
   "name": "python3"
  },
  "language_info": {
   "codemirror_mode": {
    "name": "ipython",
    "version": 3
   },
   "file_extension": ".py",
   "mimetype": "text/x-python",
   "name": "python",
   "nbconvert_exporter": "python",
   "pygments_lexer": "ipython3",
   "version": "3.7.3"
  },
  "toc": {
   "base_numbering": 1,
   "nav_menu": {},
   "number_sections": true,
   "sideBar": true,
   "skip_h1_title": false,
   "title_cell": "Table of Contents",
   "title_sidebar": "Contents",
   "toc_cell": true,
   "toc_position": {
    "height": "calc(100% - 180px)",
    "left": "10px",
    "top": "150px",
    "width": "165px"
   },
   "toc_section_display": true,
   "toc_window_display": true
  }
 },
 "nbformat": 4,
 "nbformat_minor": 2
}
