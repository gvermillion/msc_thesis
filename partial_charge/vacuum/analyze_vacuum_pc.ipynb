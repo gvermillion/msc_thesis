{
 "cells": [
  {
   "cell_type": "markdown",
   "metadata": {
    "toc": true
   },
   "source": [
    "<h1>Table of Contents<span class=\"tocSkip\"></span></h1>\n",
    "<div class=\"toc\"><ul class=\"toc-item\"><li><span><a href=\"#Setup\" data-toc-modified-id=\"Setup-1\"><span class=\"toc-item-num\">1&nbsp;&nbsp;</span>Setup</a></span><ul class=\"toc-item\"><li><span><a href=\"#Import-Stuff\" data-toc-modified-id=\"Import-Stuff-1.1\"><span class=\"toc-item-num\">1.1&nbsp;&nbsp;</span>Import Stuff</a></span></li><li><span><a href=\"#Tidy-Data\" data-toc-modified-id=\"Tidy-Data-1.2\"><span class=\"toc-item-num\">1.2&nbsp;&nbsp;</span>Tidy Data</a></span></li><li><span><a href=\"#Some-Anonymous-Functions\" data-toc-modified-id=\"Some-Anonymous-Functions-1.3\"><span class=\"toc-item-num\">1.3&nbsp;&nbsp;</span>Some Anonymous Functions</a></span></li><li><span><a href=\"#Named-Functions\" data-toc-modified-id=\"Named-Functions-1.4\"><span class=\"toc-item-num\">1.4&nbsp;&nbsp;</span>Named Functions</a></span></li><li><span><a href=\"#Tidy-Data\" data-toc-modified-id=\"Tidy-Data-1.5\"><span class=\"toc-item-num\">1.5&nbsp;&nbsp;</span>Tidy Data</a></span></li></ul></li><li><span><a href=\"#Draft-Analysis\" data-toc-modified-id=\"Draft-Analysis-2\"><span class=\"toc-item-num\">2&nbsp;&nbsp;</span>Draft Analysis</a></span></li><li><span><a href=\"#Main-Body\" data-toc-modified-id=\"Main-Body-3\"><span class=\"toc-item-num\">3&nbsp;&nbsp;</span>Main Body</a></span><ul class=\"toc-item\"><li><span><a href=\"#Look-at-Distribution-of-Individual-and-Total-Dipole\" data-toc-modified-id=\"Look-at-Distribution-of-Individual-and-Total-Dipole-3.1\"><span class=\"toc-item-num\">3.1&nbsp;&nbsp;</span>Look at Distribution of Individual and Total Dipole</a></span></li><li><span><a href=\"#Total-vs-Individual\" data-toc-modified-id=\"Total-vs-Individual-3.2\"><span class=\"toc-item-num\">3.2&nbsp;&nbsp;</span>Total vs Individual</a></span></li><li><span><a href=\"#Ferro-vs-Antiferro\" data-toc-modified-id=\"Ferro-vs-Antiferro-3.3\"><span class=\"toc-item-num\">3.3&nbsp;&nbsp;</span>Ferro vs Antiferro</a></span></li><li><span><a href=\"#Compare-Potential-Maps\" data-toc-modified-id=\"Compare-Potential-Maps-3.4\"><span class=\"toc-item-num\">3.4&nbsp;&nbsp;</span>Compare Potential Maps</a></span><ul class=\"toc-item\"><li><span><a href=\"#Collect-Data\" data-toc-modified-id=\"Collect-Data-3.4.1\"><span class=\"toc-item-num\">3.4.1&nbsp;&nbsp;</span>Collect Data</a></span><ul class=\"toc-item\"><li><span><a href=\"#Need-to-add-the-energies-for-the-new-potential-map.-Did-not-originally-collect\" data-toc-modified-id=\"Need-to-add-the-energies-for-the-new-potential-map.-Did-not-originally-collect-3.4.1.1\"><span class=\"toc-item-num\">3.4.1.1&nbsp;&nbsp;</span>Need to add the energies for the new potential map. Did not originally collect</a></span></li></ul></li><li><span><a href=\"#Compare-Maps\" data-toc-modified-id=\"Compare-Maps-3.4.2\"><span class=\"toc-item-num\">3.4.2&nbsp;&nbsp;</span>Compare Maps</a></span></li></ul></li></ul></li></ul></div>"
   ]
  },
  {
   "cell_type": "markdown",
   "metadata": {},
   "source": [
    "# Setup\n",
    "\n",
    "## Import Stuff"
   ]
  },
  {
   "cell_type": "code",
   "execution_count": 3,
   "metadata": {
    "code_folding": [],
    "scrolled": false
   },
   "outputs": [
    {
     "name": "stdout",
     "output_type": "stream",
     "text": [
      "Pickled data sucessfully loaded.\n",
      "Extracting system info.\n",
      "Done.\n"
     ]
    },
    {
     "data": {
      "text/html": [
       "<div>\n",
       "<style scoped>\n",
       "    .dataframe tbody tr th:only-of-type {\n",
       "        vertical-align: middle;\n",
       "    }\n",
       "\n",
       "    .dataframe tbody tr th {\n",
       "        vertical-align: top;\n",
       "    }\n",
       "\n",
       "    .dataframe thead th {\n",
       "        text-align: right;\n",
       "    }\n",
       "</style>\n",
       "<table border=\"1\" class=\"dataframe\">\n",
       "  <thead>\n",
       "    <tr style=\"text-align: right;\">\n",
       "      <th></th>\n",
       "      <th>dipoles</th>\n",
       "      <th>total_dipole</th>\n",
       "      <th>config</th>\n",
       "      <th>couple</th>\n",
       "      <th>fill</th>\n",
       "      <th>run</th>\n",
       "    </tr>\n",
       "  </thead>\n",
       "  <tbody>\n",
       "    <tr>\n",
       "      <th>0</th>\n",
       "      <td>[1.8700516618280878, 26.966134335213575, 1.875...</td>\n",
       "      <td>92.526155</td>\n",
       "      <td>40</td>\n",
       "      <td>antiferro</td>\n",
       "      <td>1110</td>\n",
       "      <td>17</td>\n",
       "    </tr>\n",
       "    <tr>\n",
       "      <th>1</th>\n",
       "      <td>[1.801778917021801, 1.8002584492229237, 1.8012...</td>\n",
       "      <td>89.449518</td>\n",
       "      <td>44</td>\n",
       "      <td>ferro</td>\n",
       "      <td>1111</td>\n",
       "      <td>10</td>\n",
       "    </tr>\n",
       "    <tr>\n",
       "      <th>2</th>\n",
       "      <td>[1.8759304978787896, 2.488008059944512, 2.4986...</td>\n",
       "      <td>89.178644</td>\n",
       "      <td>1</td>\n",
       "      <td>antiferro</td>\n",
       "      <td>1110</td>\n",
       "      <td>11</td>\n",
       "    </tr>\n",
       "    <tr>\n",
       "      <th>3</th>\n",
       "      <td>[1.8482691119110115]</td>\n",
       "      <td>1.848269</td>\n",
       "      <td>34</td>\n",
       "      <td>ferro</td>\n",
       "      <td>1000</td>\n",
       "      <td>21</td>\n",
       "    </tr>\n",
       "    <tr>\n",
       "      <th>4</th>\n",
       "      <td>[1.853148457244691, 1.8548880179750231]</td>\n",
       "      <td>89.158633</td>\n",
       "      <td>39</td>\n",
       "      <td>antiferro</td>\n",
       "      <td>1010</td>\n",
       "      <td>23</td>\n",
       "    </tr>\n",
       "  </tbody>\n",
       "</table>\n",
       "</div>"
      ],
      "text/plain": [
       "                                             dipoles  total_dipole  config  \\\n",
       "0  [1.8700516618280878, 26.966134335213575, 1.875...     92.526155      40   \n",
       "1  [1.801778917021801, 1.8002584492229237, 1.8012...     89.449518      44   \n",
       "2  [1.8759304978787896, 2.488008059944512, 2.4986...     89.178644       1   \n",
       "3                               [1.8482691119110115]      1.848269      34   \n",
       "4            [1.853148457244691, 1.8548880179750231]     89.158633      39   \n",
       "\n",
       "      couple  fill  run  \n",
       "0  antiferro  1110   17  \n",
       "1      ferro  1111   10  \n",
       "2  antiferro  1110   11  \n",
       "3      ferro  1000   21  \n",
       "4  antiferro  1010   23  "
      ]
     },
     "execution_count": 3,
     "metadata": {},
     "output_type": "execute_result"
    }
   ],
   "source": [
    "import pickle as pkl\n",
    "import pandas as pd\n",
    "import matplotlib.pyplot as plt\n",
    "import matplotlib.gridspec as GS\n",
    "import numpy as np\n",
    "import seaborn as sns\n",
    "%matplotlib inline\n",
    "\n",
    "sns.set()\n",
    "\n",
    "try:\n",
    "    with open(\"tidy_data/pc_vacuum.pkl\",\"rb\") as file_in:\n",
    "        raw_data = pkl.load(file_in)\n",
    "        print(\"Pickled data sucessfully loaded.\")\n",
    "        raw_df = pd.DataFrame(raw_data)\n",
    "except:\n",
    "    print(\"Error loading data.\")\n",
    "    \n",
    "print(\"Extracting system info.\")\n",
    "infos = []\n",
    "for idx,row in raw_df.iterrows():\n",
    "    infos.append(row.sys_info)\n",
    "    \n",
    "info_df = pd.DataFrame(infos)\n",
    "info_df.head()\n",
    "raw_df = (pd.concat([raw_df,info_df],axis=1)\n",
    "          .drop([\"fpath\",\"sys_info\"],axis=1))\n",
    "print(\"Done.\")\n",
    "raw_df.head()\n"
   ]
  },
  {
   "cell_type": "markdown",
   "metadata": {},
   "source": [
    "## Some Anonymous Functions"
   ]
  },
  {
   "cell_type": "code",
   "execution_count": 4,
   "metadata": {
    "scrolled": false
   },
   "outputs": [],
   "source": [
    "filter_by_fill = lambda fill,df: df[df.fill == fill]\n",
    "filter_by_couple = (lambda couple,df: df[df.couple == couple]\n",
    "                    .sort_values([\"config\",\"run\"],axis=0))\n",
    "                   # .set_index([\"config\"]))\n",
    "filter_by_config = lambda config,df: df[df.config == config]\n",
    "filter_by_type = lambda type_,df: df[df.type == type_]\n",
    "flatten = lambda x: [j for i in x for j in i]\n",
    "get_dipoles = lambda df: flatten(df.dipoles.values)\n",
    "get_total_dipole = lambda df: df.total_dipole.values\n",
    "\n",
    "drop_outliers = lambda df: df.drop(df.index[return_outliers(df.total_dipole)])"
   ]
  },
  {
   "cell_type": "markdown",
   "metadata": {},
   "source": [
    "## Named Functions"
   ]
  },
  {
   "cell_type": "code",
   "execution_count": 5,
   "metadata": {
    "scrolled": false
   },
   "outputs": [],
   "source": [
    "def reject_outliers(data, m = 1.):\n",
    "        '''Used modified Z-score itl.nist.gov/div898/handbook/eda/section3/eda35h.htm '''\n",
    "        data = np.array(data)\n",
    "        d = np.abs(data - np.median(data))\n",
    "        mdev = np.median(d)\n",
    "        s = d/mdev if mdev else 0.\n",
    "        return data[s<m]\n",
    "    \n",
    "def return_outliers(data, m = 1.0):\n",
    "    '''Used modified Z-score itl.nist.gov/div898/handbook/eda/section3/eda35h.htm '''\n",
    "    data = np.array(data)\n",
    "    d = np.abs(data - np.median(data))\n",
    "    mdev = np.median(d)\n",
    "    s = d/mdev if mdev else 0.\n",
    "    reject = list(data[s>=m])\n",
    "    return [list(data).index(i) for i in reject]\n",
    "\n",
    "\n",
    "def get_fill_df(couple,fill,m=1.0):   \n",
    "    entries = []\n",
    "    for config in list(set(raw_df.config.values)):\n",
    "        \n",
    "        try:\n",
    "            df = filter_by_config(config,filter_by_couple(couple,filter_by_fill(fill,raw_df)))\n",
    "            dipoles = get_dipoles(df)\n",
    "            total_dipole = get_total_dipole(df)\n",
    "            df = drop_outliers(df)\n",
    "            clean_dipoles = get_dipoles(df)\n",
    "            clean_total_dipole = get_total_dipole(df)\n",
    "\n",
    "            entry = {'couple':couple, 'fill':fill, 'config':config, \n",
    "                     'raw_dipoles':dipoles,'clean_dipoles':clean_dipoles,\n",
    "                     'raw_total_dipole':total_dipole,'clean_total_dipole':clean_total_dipole}\n",
    "\n",
    "            entries.append(entry)\n",
    "        except:\n",
    "            print(\"Error: {} {} {} \".format(couple,fill,config))\n",
    "        \n",
    "    return pd.DataFrame(entries)\n",
    "\n",
    "def plot_dipole_distribution_fill(couple=None,fill=None,ax=None):\n",
    "    df = get_fill_df(couple,fill,m=1.0)\n",
    "    plt.title(\"Fill: {}  Couple: {}\".format(fill,couple.upper()))\n",
    "    sns.distplot(flatten(df.clean_total_dipole.values),label=\"Total Dipole\"); \n",
    "    sns.distplot(flatten(df.clean_dipoles.values),label=\"Dipole\");\n",
    "    ax.legend();\n",
    "    ax.set(xlabel=\"Dipole [Debye]\",ylabel=\"Count [a.u.]\",xlim=[-25,100]);\n",
    "    \n",
    "def plot_dipole_distribution_couple(type_=None,fill=None,ax=None):\n",
    "    \n",
    "    type_dict = {'total':'clean_total_dipole', 'indiv':'clean_dipoles'}\n",
    "    try:\n",
    "        ty = type_dict[type_]\n",
    "    except:\n",
    "        print(\"Invalid type. Use 'total' or 'indiv'\")\n",
    "        return\n",
    "    plt.title(\"Fill: {}  Type: {}\".format(fill,ty.upper()))\n",
    "    f_df = get_fill_df(\"ferro\",fill,m=1.0)\n",
    "    sns.distplot(flatten(f_df[ty].values),label=\"Ferro\");\n",
    "    if fill != 1000:\n",
    "        a_df = get_fill_df(\"antiferro\",fill,m=1.0)\n",
    "        sns.distplot(flatten(a_df[ty].values),label=\"Antiferro\"); \n",
    "    \n",
    "    ax.legend();\n",
    "    if type_ == \"total\":\n",
    "        ax.set(xlabel=\"Dipole [Debye]\",ylabel=\"Count [a.u.]\",xlim=[-5,15]);\n",
    "    else:\n",
    "        ax.set(xlabel=\"Dipole [Debye]\",ylabel=\"Count [a.u.]\",xlim=[-25,125]);\n",
    "        \n",
    "\n",
    "def make_total_individual_plot(m=1.):\n",
    "    fills = set(raw_df.fill.values)\n",
    "    couples = set(raw_df.couple.values)\n",
    "    types= \"total indiv\".split()\n",
    "    #fills.sort()\n",
    "\n",
    "    gs = GS.GridSpec(5,2);\n",
    "    fig = plt.figure(figsize=(16,16));\n",
    "\n",
    "\n",
    "    for row,fill in enumerate(fills):\n",
    "        for col,type_ in enumerate(types):\n",
    "            ax = fig.add_subplot(gs[row,col]);\n",
    "            fig.subplots_adjust(hspace=0.5)\n",
    "            plot_dipole_distribution_couple(type_=type_,fill=fill,ax=ax)\n",
    "            \n",
    "\n",
    "def make_fill_couple_plot():\n",
    "    fills = set(raw_df.fill.values)\n",
    "    couples = set(raw_df.couple.values)\n",
    "\n",
    "\n",
    "    gs = GS.GridSpec(4,2);\n",
    "    fig = plt.figure(figsize=(16,16));\n",
    "\n",
    "\n",
    "    for row,fill in enumerate(fills):\n",
    "        for col,couple in enumerate(couples):\n",
    "            if not ((fill == 1000) and (couple == \"antiferro\")): # DNE\n",
    "                ax = fig.add_subplot(gs[row,col]);\n",
    "                fig.subplots_adjust(hspace=0.5)\n",
    "                plot_dipole_distribution_fill(couple=couple,fill=fill,ax=ax)"
   ]
  },
  {
   "cell_type": "markdown",
   "metadata": {},
   "source": [
    "## Tidy Data"
   ]
  },
  {
   "cell_type": "code",
   "execution_count": 6,
   "metadata": {
    "scrolled": false
   },
   "outputs": [
    {
     "data": {
      "text/html": [
       "<div>\n",
       "<style scoped>\n",
       "    .dataframe tbody tr th:only-of-type {\n",
       "        vertical-align: middle;\n",
       "    }\n",
       "\n",
       "    .dataframe tbody tr th {\n",
       "        vertical-align: top;\n",
       "    }\n",
       "\n",
       "    .dataframe thead th {\n",
       "        text-align: right;\n",
       "    }\n",
       "</style>\n",
       "<table border=\"1\" class=\"dataframe\">\n",
       "  <thead>\n",
       "    <tr style=\"text-align: right;\">\n",
       "      <th></th>\n",
       "      <th>config</th>\n",
       "      <th>couple</th>\n",
       "      <th>fill</th>\n",
       "      <th>run</th>\n",
       "      <th>type</th>\n",
       "      <th>value</th>\n",
       "    </tr>\n",
       "  </thead>\n",
       "  <tbody>\n",
       "    <tr>\n",
       "      <th>0</th>\n",
       "      <td>0</td>\n",
       "      <td>ferro</td>\n",
       "      <td>1000</td>\n",
       "      <td>0</td>\n",
       "      <td>dipole</td>\n",
       "      <td>1.850388</td>\n",
       "    </tr>\n",
       "    <tr>\n",
       "      <th>1</th>\n",
       "      <td>0</td>\n",
       "      <td>ferro</td>\n",
       "      <td>1000</td>\n",
       "      <td>0</td>\n",
       "      <td>total_dipole</td>\n",
       "      <td>1.850388</td>\n",
       "    </tr>\n",
       "    <tr>\n",
       "      <th>2</th>\n",
       "      <td>0</td>\n",
       "      <td>ferro</td>\n",
       "      <td>1000</td>\n",
       "      <td>4</td>\n",
       "      <td>dipole</td>\n",
       "      <td>1.853036</td>\n",
       "    </tr>\n",
       "    <tr>\n",
       "      <th>3</th>\n",
       "      <td>0</td>\n",
       "      <td>ferro</td>\n",
       "      <td>1000</td>\n",
       "      <td>4</td>\n",
       "      <td>total_dipole</td>\n",
       "      <td>1.853036</td>\n",
       "    </tr>\n",
       "    <tr>\n",
       "      <th>4</th>\n",
       "      <td>0</td>\n",
       "      <td>ferro</td>\n",
       "      <td>1000</td>\n",
       "      <td>6</td>\n",
       "      <td>dipole</td>\n",
       "      <td>1.852495</td>\n",
       "    </tr>\n",
       "  </tbody>\n",
       "</table>\n",
       "</div>"
      ],
      "text/plain": [
       "   config couple  fill  run          type     value\n",
       "0       0  ferro  1000    0        dipole  1.850388\n",
       "1       0  ferro  1000    0  total_dipole  1.850388\n",
       "2       0  ferro  1000    4        dipole  1.853036\n",
       "3       0  ferro  1000    4  total_dipole  1.853036\n",
       "4       0  ferro  1000    6        dipole  1.852495"
      ]
     },
     "execution_count": 6,
     "metadata": {},
     "output_type": "execute_result"
    }
   ],
   "source": [
    "fill_dfs = {}\n",
    "for fill in [1000,1010,1100,1110,1111]:\n",
    "    df = filter_by_fill(fill,raw_df).sort_values([\"config\",\"run\"])\n",
    "    fill_dfs[fill] = df\n",
    "    for config in np.arange(60):\n",
    "        config_df = filter_by_config(config,fill_dfs[fill])\n",
    "        mask = return_outliers(config_df.total_dipole)\n",
    "        rm = config_df.iloc[mask].index.values\n",
    "        fill_dfs[fill].drop(rm,axis=0,inplace=True)\n",
    "\n",
    "\n",
    "tidy_results = []\n",
    "\n",
    "for key in fill_dfs.keys():\n",
    "    df = fill_dfs[key]\n",
    "    for idx,row in df.iterrows():\n",
    "        couple = row['couple']\n",
    "        config = int(row['config'])\n",
    "        fill = int(row['fill'])\n",
    "        run = int(row['run'])\n",
    "        dipoles = row.dipoles\n",
    "        total_dipole = row.total_dipole\n",
    "\n",
    "        for d in dipoles:\n",
    "            tidy = {'couple':couple,'config':config,'fill':fill,\n",
    "                    'run':run,'type':'dipole','value':d}\n",
    "            tidy_results.append(tidy)\n",
    "\n",
    "        tidy = {'couple':couple,'config':config,'fill':fill,\n",
    "                'run':run,'type':'total_dipole','value':total_dipole}\n",
    "\n",
    "        tidy_results.append(tidy)\n",
    "\n",
    "tidy_df = pd.DataFrame(tidy_results)\n",
    "tidy_df.head()"
   ]
  },
  {
   "cell_type": "markdown",
   "metadata": {},
   "source": [
    "# Draft Analysis"
   ]
  },
  {
   "cell_type": "code",
   "execution_count": 7,
   "metadata": {
    "collapsed": true
   },
   "outputs": [
    {
     "name": "stdout",
     "output_type": "stream",
     "text": [
      "0\n"
     ]
    },
    {
     "name": "stderr",
     "output_type": "stream",
     "text": [
      "/anaconda3/lib/python3.7/site-packages/pandas/core/frame.py:3940: SettingWithCopyWarning: \n",
      "A value is trying to be set on a copy of a slice from a DataFrame\n",
      "\n",
      "See the caveats in the documentation: http://pandas.pydata.org/pandas-docs/stable/indexing.html#indexing-view-versus-copy\n",
      "  errors=errors)\n"
     ]
    },
    {
     "name": "stdout",
     "output_type": "stream",
     "text": [
      "10\n",
      "20\n",
      "30\n",
      "40\n",
      "50\n"
     ]
    },
    {
     "data": {
      "image/png": "[encoded data removed]",
      "text/plain": [
       "<Figure size 432x288 with 1 Axes>"
      ]
     },
     "metadata": {},
     "output_type": "display_data"
    }
   ],
   "source": [
    "fill_1000_df = filter_by_fill(1000,tidy_df).sort_values([\"config\",\"run\",\"type\"])\n",
    "sns.kdeplot(fill_1000_df.value)\n",
    "\n",
    "total_1000_df = filter_by_type('total_dipole',fill_1000_df).drop(['fill','couple','type','run'],axis=1)\n",
    "clean_total_1000_df = pd.DataFrame(columns=\"config value\".split())\n",
    "for i in set(total_1000_df.config):\n",
    "    if i%10 == 0:\n",
    "        print(i)\n",
    "    config = filter_by_config(i,total_1000_df)\n",
    "    outliers = return_outliers(config.value.values)\n",
    "    config.drop([config.index[i] for i in outliers],inplace=True)\n",
    "    clean_total_1000_df = pd.concat([clean_total_1000_df,config])\n",
    "        \n",
    "#fig = plt.figure(figsize=(18,18))\n",
    "#ax = plt.gca()\n",
    "#sns.barplot(x=\"config\",y=\"value\",data=total_1000_df,ax=ax)\n"
   ]
  },
  {
   "cell_type": "code",
   "execution_count": 8,
   "metadata": {},
   "outputs": [
    {
     "data": {
      "text/plain": [
       "[(1, 3)]"
      ]
     },
     "execution_count": 8,
     "metadata": {},
     "output_type": "execute_result"
    },
    {
     "data": {
      "image/png": "[encoded data removed]",
      "text/plain": [
       "<Figure size 288x216 with 1 Axes>"
      ]
     },
     "metadata": {},
     "output_type": "display_data"
    }
   ],
   "source": [
    "df = filter_by_fill(1111,tidy_df)\n",
    "df_d = filter_by_type('dipole',df)\n",
    "df_td = filter_by_type('total_dipole',df)\n",
    "\n",
    "\n",
    "\n",
    "fig = plt.figure(figsize=(4,3))\n",
    "ax = plt.gca()\n",
    "for i in np.arange(60):\n",
    "    config = filter_by_config(i,df_d)\n",
    "    sns.kdeplot(config.value.values,ax=ax)\n",
    "ax.set(xlim=[1,3])"
   ]
  },
  {
   "cell_type": "markdown",
   "metadata": {},
   "source": [
    "# Main Body"
   ]
  },
  {
   "cell_type": "markdown",
   "metadata": {},
   "source": [
    "## Look at Distribution of Individual and Total Dipole"
   ]
  },
  {
   "cell_type": "markdown",
   "metadata": {},
   "source": [
    "## Total vs Individual"
   ]
  },
  {
   "cell_type": "code",
   "execution_count": null,
   "metadata": {
    "scrolled": true
   },
   "outputs": [],
   "source": [
    "make_total_individual_plot()"
   ]
  },
  {
   "cell_type": "markdown",
   "metadata": {},
   "source": [
    "## Ferro vs Antiferro"
   ]
  },
  {
   "cell_type": "code",
   "execution_count": null,
   "metadata": {
    "scrolled": false
   },
   "outputs": [],
   "source": [
    "make_fill_couple_plot()\n"
   ]
  },
  {
   "cell_type": "markdown",
   "metadata": {},
   "source": [
    "## Compare Potential Maps\n",
    "\n",
    "### Collect Data"
   ]
  },
  {
   "cell_type": "code",
   "execution_count": null,
   "metadata": {
    "scrolled": true
   },
   "outputs": [],
   "source": [
    "path = \"../../potential_map/broad_sweep/tidy_data/pmap_antiferro_1110.pkl\"\n",
    "with open(path,\"rb\") as file_in:\n",
    "    orig_df = pkl.load(file_in)\n",
    "    \n",
    "\n",
    "orig_df = orig_df.sort_values(\"config\")\n",
    "new_df = filter_by_fill(1010,raw_df).sort_values(\"config\")\n",
    "new_df = filter_by_couple(\"antiferro\",new_df[new_df.run == 0])\n",
    "\n"
   ]
  },
  {
   "cell_type": "markdown",
   "metadata": {},
   "source": [
    "#### Need to add the energies for the new potential map. Did not originally collect"
   ]
  },
  {
   "cell_type": "code",
   "execution_count": null,
   "metadata": {
    "scrolled": true
   },
   "outputs": [],
   "source": [
    "new_en = pkl.load(open(\"tidy_data/pc_antiferro_1110_energy.pkl\",\"rb\"))\n",
    "new_en_df = pd.DataFrame(new_en)\n",
    "new_en_df.config = new_en_df.config.apply(int)\n",
    "\n",
    "new_en_df = new_en_df.sort_values(\"config\",axis=0)\n",
    "new_en_df.head()\n"
   ]
  },
  {
   "cell_type": "code",
   "execution_count": null,
   "metadata": {
    "scrolled": true
   },
   "outputs": [],
   "source": [
    "new_df[\"angle\"] = new_df.config.values*0.6/60\n",
    "orig_df[\"angle\"] = orig_df.config.values*np.pi/3/100"
   ]
  },
  {
   "cell_type": "markdown",
   "metadata": {},
   "source": [
    "### Compare Maps"
   ]
  },
  {
   "cell_type": "code",
   "execution_count": null,
   "metadata": {
    "scrolled": true
   },
   "outputs": [],
   "source": [
    "def plot_map(df=None,ax=None):\n",
    "    sns.lineplot(x=\"angle\",y=\"energy\",data=df,ax=ax)\n",
    "    \n",
    "def zero_energy(df):\n",
    "    zero_en = df.energy.values[0]\n",
    "    df.energy -= zero_en\n",
    "    return df"
   ]
  },
  {
   "cell_type": "code",
   "execution_count": null,
   "metadata": {
    "scrolled": false
   },
   "outputs": [],
   "source": [
    "\n",
    "plot_map(zero_energy(orig_df))\n",
    "plot_map(zero_energy(new_df))"
   ]
  },
  {
   "cell_type": "code",
   "execution_count": null,
   "metadata": {
    "scrolled": true
   },
   "outputs": [],
   "source": [
    "plot_map(zero_energy(new_df))"
   ]
  },
  {
   "cell_type": "code",
   "execution_count": null,
   "metadata": {
    "scrolled": true
   },
   "outputs": [],
   "source": []
  }
 ],
 "metadata": {
  "kernelspec": {
   "display_name": "Python 3",
   "language": "python",
   "name": "python3"
  },
  "language_info": {
   "codemirror_mode": {
    "name": "ipython",
    "version": 3
   },
   "file_extension": ".py",
   "mimetype": "text/x-python",
   "name": "python",
   "nbconvert_exporter": "python",
   "pygments_lexer": "ipython3",
   "version": "3.7.3"
  },
  "toc": {
   "base_numbering": 1,
   "nav_menu": {},
   "number_sections": true,
   "sideBar": true,
   "skip_h1_title": false,
   "title_cell": "Table of Contents",
   "title_sidebar": "Contents",
   "toc_cell": true,
   "toc_position": {
    "height": "calc(100% - 180px)",
    "left": "10px",
    "top": "150px",
    "width": "165px"
   },
   "toc_section_display": true,
   "toc_window_display": true
  }
 },
 "nbformat": 4,
 "nbformat_minor": 2
}
