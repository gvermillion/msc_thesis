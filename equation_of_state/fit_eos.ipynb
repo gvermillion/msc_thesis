{
 "cells": [
  {
   "cell_type": "markdown",
   "metadata": {
    "toc": true
   },
   "source": [
    "<h1>Table of Contents<span class=\"tocSkip\"></span></h1>\n",
    "<div class=\"toc\"><ul class=\"toc-item\"><li><span><a href=\"#Import-Stuff\" data-toc-modified-id=\"Import-Stuff-1\"><span class=\"toc-item-num\">1&nbsp;&nbsp;</span>Import Stuff</a></span></li><li><span><a href=\"#Fit-Birch-Murnaghan-Equation-of-State\" data-toc-modified-id=\"Fit-Birch-Murnaghan-Equation-of-State-2\"><span class=\"toc-item-num\">2&nbsp;&nbsp;</span>Fit Birch-Murnaghan Equation of State</a></span></li></ul></div>"
   ]
  },
  {
   "cell_type": "markdown",
   "metadata": {
    "ExecuteTime": {
     "end_time": "2019-07-13T15:07:28.689576Z",
     "start_time": "2019-07-13T15:07:28.686344Z"
    }
   },
   "source": [
    "# Import Stuff"
   ]
  },
  {
   "cell_type": "code",
   "execution_count": 2,
   "metadata": {
    "ExecuteTime": {
     "end_time": "2019-07-14T11:03:11.533814Z",
     "start_time": "2019-07-14T11:03:11.520720Z"
    }
   },
   "outputs": [
    {
     "data": {
      "text/html": [
       "<div>\n",
       "<style scoped>\n",
       "    .dataframe tbody tr th:only-of-type {\n",
       "        vertical-align: middle;\n",
       "    }\n",
       "\n",
       "    .dataframe tbody tr th {\n",
       "        vertical-align: top;\n",
       "    }\n",
       "\n",
       "    .dataframe thead th {\n",
       "        text-align: right;\n",
       "    }\n",
       "</style>\n",
       "<table border=\"1\" class=\"dataframe\">\n",
       "  <thead>\n",
       "    <tr style=\"text-align: right;\">\n",
       "      <th></th>\n",
       "      <th>volume</th>\n",
       "      <th>energy</th>\n",
       "    </tr>\n",
       "  </thead>\n",
       "  <tbody>\n",
       "    <tr>\n",
       "      <th>0</th>\n",
       "      <td>569.041635</td>\n",
       "      <td>-427.642480</td>\n",
       "    </tr>\n",
       "    <tr>\n",
       "      <th>1</th>\n",
       "      <td>588.890167</td>\n",
       "      <td>-433.523506</td>\n",
       "    </tr>\n",
       "    <tr>\n",
       "      <th>2</th>\n",
       "      <td>609.194966</td>\n",
       "      <td>-438.109256</td>\n",
       "    </tr>\n",
       "    <tr>\n",
       "      <th>3</th>\n",
       "      <td>629.961218</td>\n",
       "      <td>-441.506264</td>\n",
       "    </tr>\n",
       "    <tr>\n",
       "      <th>4</th>\n",
       "      <td>651.194109</td>\n",
       "      <td>-443.821142</td>\n",
       "    </tr>\n",
       "  </tbody>\n",
       "</table>\n",
       "</div>"
      ],
      "text/plain": [
       "       volume      energy\n",
       "0  569.041635 -427.642480\n",
       "1  588.890167 -433.523506\n",
       "2  609.194966 -438.109256\n",
       "3  629.961218 -441.506264\n",
       "4  651.194109 -443.821142"
      ]
     },
     "execution_count": 2,
     "metadata": {},
     "output_type": "execute_result"
    }
   ],
   "source": [
    "import pickle as pkl\n",
    "import numpy as np\n",
    "import pandas as pd \n",
    "import matplotlib.pyplot as plt\n",
    "import seaborn as sns\n",
    "from ase.eos import EquationOfState\n",
    "sns.set(font_scale=1.5)\n",
    "\n",
    "with open(\"tidy_data/equation_of_state_data.pkl\",\"rb\") as file_in:\n",
    "    raw_data = pkl.load(file_in)\n",
    "    \n",
    "df = pd.DataFrame(raw_data)\n",
    "df.head()"
   ]
  },
  {
   "cell_type": "markdown",
   "metadata": {},
   "source": [
    "# Fit Birch-Murnaghan Equation of State"
   ]
  },
  {
   "cell_type": "code",
   "execution_count": 3,
   "metadata": {
    "ExecuteTime": {
     "end_time": "2019-07-14T11:03:11.642972Z",
     "start_time": "2019-07-14T11:03:11.581297Z"
    }
   },
   "outputs": [
    {
     "name": "stdout",
     "output_type": "stream",
     "text": [
      "695.3885929138214\n"
     ]
    }
   ],
   "source": [
    "eos = EquationOfState(df.volume.values,df.energy.values,eos=\"birchmurnaghan\")\n",
    "V,E,B = eos.fit()\n",
    "print(V)"
   ]
  },
  {
   "cell_type": "code",
   "execution_count": 6,
   "metadata": {
    "ExecuteTime": {
     "end_time": "2019-07-14T11:03:12.203973Z",
     "start_time": "2019-07-14T11:03:11.645948Z"
    },
    "scrolled": false
   },
   "outputs": [
    {
     "data": {
      "text/plain": [
       "[Text(0, 0.5, 'Energy [eV]'), Text(0.5, 0, 'Volume [cu. Ang.]')]"
      ]
     },
     "execution_count": 6,
     "metadata": {},
     "output_type": "execute_result"
    },
    {
     "data": {
      "image/png": "[encoded data removed]",
      "text/plain": [
       "<Figure size 648x432 with 1 Axes>"
      ]
     },
     "metadata": {},
     "output_type": "display_data"
    }
   ],
   "source": [
    "sns.set_context(\"notebook\")\n",
    "fig= plt.figure(figsize=(9,6))\n",
    "ax = plt.gca()\n",
    "plotdata = eos.getplotdata()\n",
    "sns.lineplot(x=plotdata[4],y=plotdata[5],ax=ax)\n",
    "sns.scatterplot(x=plotdata[6],y=plotdata[7])\n",
    "#plt.title(\"Birch-Murnaghan Fitting\",size=16)\n",
    "ax.set(xlabel=\"Volume [cu. Ang.]\",ylabel=\"Energy [eV]\")\n"
   ]
  },
  {
   "cell_type": "code",
   "execution_count": 5,
   "metadata": {
    "ExecuteTime": {
     "end_time": "2019-07-14T11:03:12.352152Z",
     "start_time": "2019-07-14T11:03:12.206963Z"
    }
   },
   "outputs": [
    {
     "data": {
      "text/plain": [
       "695.3885929138214"
      ]
     },
     "execution_count": 5,
     "metadata": {},
     "output_type": "execute_result"
    }
   ],
   "source": [
    "eos.v0"
   ]
  },
  {
   "cell_type": "code",
   "execution_count": 8,
   "metadata": {},
   "outputs": [
    {
     "data": {
      "text/plain": [
       "1.1250266965891378"
      ]
     },
     "execution_count": 8,
     "metadata": {},
     "output_type": "execute_result"
    }
   ],
   "source": [
    "eos.B"
   ]
  },
  {
   "cell_type": "code",
   "execution_count": null,
   "metadata": {},
   "outputs": [],
   "source": []
  }
 ],
 "metadata": {
  "hide_input": false,
  "kernelspec": {
   "display_name": "Python 3",
   "language": "python",
   "name": "python3"
  },
  "language_info": {
   "codemirror_mode": {
    "name": "ipython",
    "version": 3
   },
   "file_extension": ".py",
   "mimetype": "text/x-python",
   "name": "python",
   "nbconvert_exporter": "python",
   "pygments_lexer": "ipython3",
   "version": "3.7.3"
  },
  "toc": {
   "base_numbering": 1,
   "nav_menu": {},
   "number_sections": true,
   "sideBar": true,
   "skip_h1_title": false,
   "title_cell": "Table of Contents",
   "title_sidebar": "Contents",
   "toc_cell": true,
   "toc_position": {},
   "toc_section_display": true,
   "toc_window_display": true
  },
  "varInspector": {
   "cols": {
    "lenName": 16,
    "lenType": 16,
    "lenVar": 40
   },
   "kernels_config": {
    "python": {
     "delete_cmd_postfix": "",
     "delete_cmd_prefix": "del ",
     "library": "var_list.py",
     "varRefreshCmd": "print(var_dic_list())"
    },
    "r": {
     "delete_cmd_postfix": ") ",
     "delete_cmd_prefix": "rm(",
     "library": "var_list.r",
     "varRefreshCmd": "cat(var_dic_list()) "
    }
   },
   "types_to_exclude": [
    "module",
    "function",
    "builtin_function_or_method",
    "instance",
    "_Feature"
   ],
   "window_display": true
  }
 },
 "nbformat": 4,
 "nbformat_minor": 2
}
