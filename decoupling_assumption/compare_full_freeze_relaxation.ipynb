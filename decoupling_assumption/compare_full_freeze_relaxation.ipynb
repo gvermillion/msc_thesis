{
 "cells": [
  {
   "cell_type": "markdown",
   "metadata": {
    "toc": true
   },
   "source": [
    "<h1>Table of Contents<span class=\"tocSkip\"></span></h1>\n",
    "<div class=\"toc\"><ul class=\"toc-item\"><li><span><a href=\"#Setup\" data-toc-modified-id=\"Setup-1\"><span class=\"toc-item-num\">1&nbsp;&nbsp;</span>Setup</a></span></li><li><span><a href=\"#Anonymous-Functions\" data-toc-modified-id=\"Anonymous-Functions-2\"><span class=\"toc-item-num\">2&nbsp;&nbsp;</span>Anonymous Functions</a></span></li><li><span><a href=\"#Named-Functions\" data-toc-modified-id=\"Named-Functions-3\"><span class=\"toc-item-num\">3&nbsp;&nbsp;</span>Named Functions</a></span></li><li><span><a href=\"#Get-Differences\" data-toc-modified-id=\"Get-Differences-4\"><span class=\"toc-item-num\">4&nbsp;&nbsp;</span>Get Differences</a></span><ul class=\"toc-item\"><li><span><a href=\"#Figures\" data-toc-modified-id=\"Figures-4.1\"><span class=\"toc-item-num\">4.1&nbsp;&nbsp;</span>Figures</a></span><ul class=\"toc-item\"><li><span><a href=\"#Comparison-of-Energy-Tolerances\" data-toc-modified-id=\"Comparison-of-Energy-Tolerances-4.1.1\"><span class=\"toc-item-num\">4.1.1&nbsp;&nbsp;</span>Comparison of Energy Tolerances</a></span></li><li><span><a href=\"#Comparison-of-Full-vs-Freeze\" data-toc-modified-id=\"Comparison-of-Full-vs-Freeze-4.1.2\"><span class=\"toc-item-num\">4.1.2&nbsp;&nbsp;</span>Comparison of Full vs Freeze</a></span></li></ul></li></ul></li><li><span><a href=\"#Conclusions\" data-toc-modified-id=\"Conclusions-5\"><span class=\"toc-item-num\">5&nbsp;&nbsp;</span>Conclusions</a></span></li></ul></div>"
   ]
  },
  {
   "cell_type": "markdown",
   "metadata": {},
   "source": [
    "# Setup"
   ]
  },
  {
   "cell_type": "code",
   "execution_count": 4,
   "metadata": {
    "ExecuteTime": {
     "end_time": "2019-07-14T12:16:25.995752Z",
     "start_time": "2019-07-14T12:16:24.917422Z"
    },
    "scrolled": true
   },
   "outputs": [
    {
     "data": {
      "text/html": [
       "<div>\n",
       "<style scoped>\n",
       "    .dataframe tbody tr th:only-of-type {\n",
       "        vertical-align: middle;\n",
       "    }\n",
       "\n",
       "    .dataframe tbody tr th {\n",
       "        vertical-align: top;\n",
       "    }\n",
       "\n",
       "    .dataframe thead th {\n",
       "        text-align: right;\n",
       "    }\n",
       "</style>\n",
       "<table border=\"1\" class=\"dataframe\">\n",
       "  <thead>\n",
       "    <tr style=\"text-align: right;\">\n",
       "      <th></th>\n",
       "      <th>ediff</th>\n",
       "      <th>method</th>\n",
       "      <th>positions</th>\n",
       "      <th>when</th>\n",
       "    </tr>\n",
       "  </thead>\n",
       "  <tbody>\n",
       "    <tr>\n",
       "      <th>0</th>\n",
       "      <td>None</td>\n",
       "      <td>None</td>\n",
       "      <td>[[4.6506500020202965, 0.0, 2.320274220484821],...</td>\n",
       "      <td>before</td>\n",
       "    </tr>\n",
       "    <tr>\n",
       "      <th>1</th>\n",
       "      <td>1e-04</td>\n",
       "      <td>freeze</td>\n",
       "      <td>[[4.6506500020202965, 0.0, 2.320274220484821],...</td>\n",
       "      <td>after</td>\n",
       "    </tr>\n",
       "    <tr>\n",
       "      <th>2</th>\n",
       "      <td>1e-05</td>\n",
       "      <td>freeze</td>\n",
       "      <td>[[4.6506500020202965, 0.0, 2.320274220484821],...</td>\n",
       "      <td>after</td>\n",
       "    </tr>\n",
       "    <tr>\n",
       "      <th>3</th>\n",
       "      <td>1e-04</td>\n",
       "      <td>full</td>\n",
       "      <td>[[4.660861427945597, 0.0, 2.320274220484821], ...</td>\n",
       "      <td>after</td>\n",
       "    </tr>\n",
       "    <tr>\n",
       "      <th>4</th>\n",
       "      <td>1e-05</td>\n",
       "      <td>full</td>\n",
       "      <td>[[4.6650580279724325, 0.0, 2.320274220484821],...</td>\n",
       "      <td>after</td>\n",
       "    </tr>\n",
       "  </tbody>\n",
       "</table>\n",
       "</div>"
      ],
      "text/plain": [
       "   ediff  method                                          positions    when\n",
       "0   None    None  [[4.6506500020202965, 0.0, 2.320274220484821],...  before\n",
       "1  1e-04  freeze  [[4.6506500020202965, 0.0, 2.320274220484821],...   after\n",
       "2  1e-05  freeze  [[4.6506500020202965, 0.0, 2.320274220484821],...   after\n",
       "3  1e-04    full  [[4.660861427945597, 0.0, 2.320274220484821], ...   after\n",
       "4  1e-05    full  [[4.6650580279724325, 0.0, 2.320274220484821],...   after"
      ]
     },
     "execution_count": 4,
     "metadata": {},
     "output_type": "execute_result"
    }
   ],
   "source": [
    "import pandas as pd \n",
    "import numpy as np \n",
    "import pickle as pkl\n",
    "import ase\n",
    "import seaborn as sns\n",
    "import matplotlib.pyplot as plt\n",
    "\n",
    "with open(\"tidy_data/decoupling_assumption_data.pkl\", \"rb\") as file_in:\n",
    "    raw_data = pkl.load(file_in)\n",
    "\n",
    "\n",
    "raw_df = pd.DataFrame(raw_data[1])\n",
    "raw_df.head()"
   ]
  },
  {
   "cell_type": "code",
   "execution_count": null,
   "metadata": {},
   "outputs": [],
   "source": []
  },
  {
   "cell_type": "code",
   "execution_count": 5,
   "metadata": {
    "ExecuteTime": {
     "end_time": "2019-07-14T12:16:26.373692Z",
     "start_time": "2019-07-14T12:16:26.285976Z"
    }
   },
   "outputs": [
    {
     "data": {
      "text/html": [
       "<div>\n",
       "<style scoped>\n",
       "    .dataframe tbody tr th:only-of-type {\n",
       "        vertical-align: middle;\n",
       "    }\n",
       "\n",
       "    .dataframe tbody tr th {\n",
       "        vertical-align: top;\n",
       "    }\n",
       "\n",
       "    .dataframe thead th {\n",
       "        text-align: right;\n",
       "    }\n",
       "</style>\n",
       "<table border=\"1\" class=\"dataframe\">\n",
       "  <thead>\n",
       "    <tr style=\"text-align: right;\">\n",
       "      <th></th>\n",
       "      <th>ediff</th>\n",
       "      <th>method</th>\n",
       "      <th>positions</th>\n",
       "      <th>when</th>\n",
       "    </tr>\n",
       "  </thead>\n",
       "  <tbody>\n",
       "    <tr>\n",
       "      <th>1</th>\n",
       "      <td>1e-04</td>\n",
       "      <td>freeze</td>\n",
       "      <td>[[4.6506500020202965, 0.0, 2.320274220484821],...</td>\n",
       "      <td>after</td>\n",
       "    </tr>\n",
       "    <tr>\n",
       "      <th>3</th>\n",
       "      <td>1e-04</td>\n",
       "      <td>full</td>\n",
       "      <td>[[4.660861427945597, 0.0, 2.320274220484821], ...</td>\n",
       "      <td>after</td>\n",
       "    </tr>\n",
       "  </tbody>\n",
       "</table>\n",
       "</div>"
      ],
      "text/plain": [
       "   ediff  method                                          positions   when\n",
       "1  1e-04  freeze  [[4.6506500020202965, 0.0, 2.320274220484821],...  after\n",
       "3  1e-04    full  [[4.660861427945597, 0.0, 2.320274220484821], ...  after"
      ]
     },
     "execution_count": 5,
     "metadata": {},
     "output_type": "execute_result"
    }
   ],
   "source": [
    "ediff_04_df = raw_df[raw_df.ediff == \"1e-04\"]\n",
    "ediff_05_df = raw_df[raw_df.ediff == \"1e-05\"]\n",
    "ediff_04_df.head()"
   ]
  },
  {
   "cell_type": "markdown",
   "metadata": {},
   "source": [
    "# Anonymous Functions"
   ]
  },
  {
   "cell_type": "code",
   "execution_count": 6,
   "metadata": {
    "ExecuteTime": {
     "end_time": "2019-07-14T12:16:27.304291Z",
     "start_time": "2019-07-14T12:16:27.299797Z"
    }
   },
   "outputs": [],
   "source": [
    "get_stats = lambda x: [np.mean(x),np.std(x)/(np.sqrt(len(x)))]"
   ]
  },
  {
   "cell_type": "markdown",
   "metadata": {},
   "source": [
    "# Named Functions"
   ]
  },
  {
   "cell_type": "code",
   "execution_count": 7,
   "metadata": {
    "ExecuteTime": {
     "end_time": "2019-07-14T12:17:23.573575Z",
     "start_time": "2019-07-14T12:17:23.562193Z"
    }
   },
   "outputs": [],
   "source": [
    "def get_bonds_angles(pos):\n",
    "    O,H1,H2 = [j for i in pos for j in i][-3:]\n",
    "    sys = raw_data[0]\n",
    "    del sys[:]\n",
    "    sys.extend(ase.Atom(symbol='O'))\n",
    "    sys.extend(ase.Atom(symbol='H'))\n",
    "    sys.extend(ase.Atom(symbol='H'))\n",
    "    sys[0].position = O\n",
    "    sys[1].position = H1\n",
    "    sys[2].position = H2\n",
    "    bonds = sys.get_all_distances(mic=True)[0,1:]\n",
    "    angle = sys.get_angle(1,0,2,mic=True)\n",
    "    \n",
    "    return bonds,angle\n",
    "\n",
    "def get_differences(df):\n",
    "    full_pos = df[df.method == \"full\"].positions.values\n",
    "    freeze_pos = df[df.method == \"freeze\"].positions.values\n",
    "    diff_pos = full_pos-freeze_pos\n",
    "    mag_diff = [np.linalg.norm(j) for i in diff_pos for j in i]\n",
    "\n",
    "    bonds_full, angle_full = get_bonds_angles(full_pos)\n",
    "    bonds_freeze, angle_freeze = get_bonds_angles(freeze_pos)\n",
    "\n",
    "    ediff = df.ediff.tolist()[0]\n",
    "    avg_diff, avg_diff_err = get_stats(mag_diff)\n",
    "    bond_full_avg, bond_full_avg_err = get_stats(bonds_full)\n",
    "    bond_freeze_avg, bond_freeze_avg_err = get_stats(bonds_freeze)\n",
    "    max_diff = max(mag_diff)\n",
    "    \n",
    "    differences = {'ediff':ediff, 'avg_diff':avg_diff, 'avg_diff_err':avg_diff_err, \n",
    "                   'max_diff':max_diff, 'bond_full_avg':bond_full_avg, 'bond_full_avg_err':bond_full_avg_err, \n",
    "                   'bond_freeze_avg':bond_freeze_avg, 'bond_freeze_avg_err':bond_freeze_avg_err,\n",
    "                   'angle_full':angle_full, 'angle_freeze':angle_freeze}\n",
    "    \n",
    "    return differences\n",
    "\n"
   ]
  },
  {
   "cell_type": "markdown",
   "metadata": {
    "ExecuteTime": {
     "end_time": "2019-07-14T12:03:50.446512Z",
     "start_time": "2019-07-14T12:03:50.440694Z"
    }
   },
   "source": [
    "# Get Differences"
   ]
  },
  {
   "cell_type": "code",
   "execution_count": 35,
   "metadata": {
    "ExecuteTime": {
     "end_time": "2019-07-14T12:17:24.463867Z",
     "start_time": "2019-07-14T12:17:24.426039Z"
    }
   },
   "outputs": [],
   "source": [
    "results_df = pd.DataFrame({1e-4:get_differences(ediff_04_df), 1e-5:get_differences(ediff_05_df)})"
   ]
  },
  {
   "cell_type": "code",
   "execution_count": 41,
   "metadata": {
    "ExecuteTime": {
     "end_time": "2019-07-14T12:17:25.091202Z",
     "start_time": "2019-07-14T12:17:25.080601Z"
    },
    "scrolled": false
   },
   "outputs": [
    {
     "data": {
      "text/html": [
       "<div>\n",
       "<style scoped>\n",
       "    .dataframe tbody tr th:only-of-type {\n",
       "        vertical-align: middle;\n",
       "    }\n",
       "\n",
       "    .dataframe tbody tr th {\n",
       "        vertical-align: top;\n",
       "    }\n",
       "\n",
       "    .dataframe thead th {\n",
       "        text-align: right;\n",
       "    }\n",
       "</style>\n",
       "<table border=\"1\" class=\"dataframe\">\n",
       "  <thead>\n",
       "    <tr style=\"text-align: right;\">\n",
       "      <th></th>\n",
       "      <th>angle_freeze</th>\n",
       "      <th>angle_full</th>\n",
       "      <th>avg_diff</th>\n",
       "      <th>avg_diff_err</th>\n",
       "      <th>bond_freeze_avg</th>\n",
       "      <th>bond_freeze_avg_err</th>\n",
       "      <th>bond_full_avg</th>\n",
       "      <th>bond_full_avg_err</th>\n",
       "      <th>ediff</th>\n",
       "      <th>max_diff</th>\n",
       "    </tr>\n",
       "  </thead>\n",
       "  <tbody>\n",
       "    <tr>\n",
       "      <th>0.00010</th>\n",
       "      <td>105.313</td>\n",
       "      <td>105.032</td>\n",
       "      <td>0.00839832</td>\n",
       "      <td>0.000962119</td>\n",
       "      <td>0.973133</td>\n",
       "      <td>2.81355e-06</td>\n",
       "      <td>0.973411</td>\n",
       "      <td>2.80845e-06</td>\n",
       "      <td>1e-04</td>\n",
       "      <td>0.0306407</td>\n",
       "    </tr>\n",
       "    <tr>\n",
       "      <th>0.00001</th>\n",
       "      <td>105.313</td>\n",
       "      <td>105.038</td>\n",
       "      <td>0.00973549</td>\n",
       "      <td>0.00109409</td>\n",
       "      <td>0.973133</td>\n",
       "      <td>2.81355e-06</td>\n",
       "      <td>0.973416</td>\n",
       "      <td>2.80877e-06</td>\n",
       "      <td>1e-05</td>\n",
       "      <td>0.0331539</td>\n",
       "    </tr>\n",
       "  </tbody>\n",
       "</table>\n",
       "</div>"
      ],
      "text/plain": [
       "        angle_freeze angle_full    avg_diff avg_diff_err bond_freeze_avg  \\\n",
       "0.00010      105.313    105.032  0.00839832  0.000962119        0.973133   \n",
       "0.00001      105.313    105.038  0.00973549   0.00109409        0.973133   \n",
       "\n",
       "        bond_freeze_avg_err bond_full_avg bond_full_avg_err  ediff   max_diff  \n",
       "0.00010         2.81355e-06      0.973411       2.80845e-06  1e-04  0.0306407  \n",
       "0.00001         2.81355e-06      0.973416       2.80877e-06  1e-05  0.0331539  "
      ]
     },
     "execution_count": 41,
     "metadata": {},
     "output_type": "execute_result"
    }
   ],
   "source": [
    "#results_df = results_df.T\n",
    "results_df.T\n"
   ]
  },
  {
   "cell_type": "code",
   "execution_count": 116,
   "metadata": {
    "scrolled": false
   },
   "outputs": [],
   "source": [
    "df = results_df.copy()\n",
    "df = df.T\n",
    "df.reset_index()\n",
    "vals_1 = df.iloc[0,:].apply(float)\n",
    "vals_2 = df.iloc[1,:].apply(float)"
   ]
  },
  {
   "cell_type": "code",
   "execution_count": 117,
   "metadata": {
    "scrolled": true
   },
   "outputs": [],
   "source": []
  },
  {
   "cell_type": "markdown",
   "metadata": {},
   "source": [
    "## Figures"
   ]
  },
  {
   "cell_type": "markdown",
   "metadata": {},
   "source": [
    "### Comparison of Energy Tolerances"
   ]
  },
  {
   "cell_type": "code",
   "execution_count": 125,
   "metadata": {},
   "outputs": [
    {
     "data": {
      "image/png": "[encoded data removed]",
      "text/plain": [
       "<Figure size 576x432 with 1 Axes>"
      ]
     },
     "metadata": {},
     "output_type": "display_data"
    }
   ],
   "source": [
    "sns.set();\n",
    "\n",
    "y=vals_1/vals_2\n",
    "y = [j for i,j in enumerate(y) if i not in [2,3,8,9]]\n",
    "x=np.arange(len(y))\n",
    "\n",
    "labels = [\"Angle\\nFreeze\",\"Angle\\nFull\",\"Avg. Bond\\nFreeze\",\"Bond Error\\nFreeze\",\"Bond\\nFull\",\"Bond Error\\nFull\"]\n",
    "\n",
    "plt.figure(figsize=(8,6));\n",
    "plt.title(\"Ratio of Different Structurual Parameters\\nEDIFF: 1E-4/1E-5\",size=16);\n",
    "plt.bar(x,y);\n",
    "plt.xticks(x,labels);"
   ]
  },
  {
   "cell_type": "markdown",
   "metadata": {},
   "source": [
    "### Comparison of Full vs Freeze"
   ]
  },
  {
   "cell_type": "code",
   "execution_count": 127,
   "metadata": {},
   "outputs": [
    {
     "data": {
      "image/png": "[encoded data removed]",
      "text/plain": [
       "<Figure size 576x432 with 1 Axes>"
      ]
     },
     "metadata": {},
     "output_type": "display_data"
    }
   ],
   "source": [
    "y2 = [y[0]/y[1],y[2]/y[4]]\n",
    "x2 = np.arange(len(y2))\n",
    "labels2 = [\"Angle\",\"Avg. Bond\"]\n",
    "\n",
    "plt.figure(figsize=(8,6));\n",
    "plt.title(\"Ratio of Different Structurual Parameters\\nFull vs Freeze\",size=16);\n",
    "plt.bar(x2,y2);\n",
    "plt.xticks(x2,labels2);"
   ]
  },
  {
   "cell_type": "markdown",
   "metadata": {},
   "source": [
    "# Conclusions\n",
    "\n",
    "1. EDIFF = 1e-4 is sufficient\n",
    "    - See from first figure that ratio of all structural parameters is nearly unity.\n",
    "2. Reasonable to decouple.\n",
    "    - See from second figure that ratio of sutructural parameter is nearly unity"
   ]
  },
  {
   "cell_type": "code",
   "execution_count": null,
   "metadata": {},
   "outputs": [],
   "source": []
  }
 ],
 "metadata": {
  "hide_input": false,
  "kernelspec": {
   "display_name": "Python 3",
   "language": "python",
   "name": "python3"
  },
  "language_info": {
   "codemirror_mode": {
    "name": "ipython",
    "version": 3
   },
   "file_extension": ".py",
   "mimetype": "text/x-python",
   "name": "python",
   "nbconvert_exporter": "python",
   "pygments_lexer": "ipython3",
   "version": "3.7.3"
  },
  "toc": {
   "base_numbering": 1,
   "nav_menu": {},
   "number_sections": true,
   "sideBar": true,
   "skip_h1_title": false,
   "title_cell": "Table of Contents",
   "title_sidebar": "Contents",
   "toc_cell": true,
   "toc_position": {},
   "toc_section_display": true,
   "toc_window_display": true
  },
  "varInspector": {
   "cols": {
    "lenName": 16,
    "lenType": 16,
    "lenVar": 40
   },
   "kernels_config": {
    "python": {
     "delete_cmd_postfix": "",
     "delete_cmd_prefix": "del ",
     "library": "var_list.py",
     "varRefreshCmd": "print(var_dic_list())"
    },
    "r": {
     "delete_cmd_postfix": ") ",
     "delete_cmd_prefix": "rm(",
     "library": "var_list.r",
     "varRefreshCmd": "cat(var_dic_list()) "
    }
   },
   "types_to_exclude": [
    "module",
    "function",
    "builtin_function_or_method",
    "instance",
    "_Feature"
   ],
   "window_display": true
  }
 },
 "nbformat": 4,
 "nbformat_minor": 2
}
