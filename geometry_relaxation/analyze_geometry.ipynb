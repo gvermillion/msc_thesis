{
 "cells": [
  {
   "cell_type": "markdown",
   "metadata": {
    "toc": true
   },
   "source": [
    "<h1>Table of Contents<span class=\"tocSkip\"></span></h1>\n",
    "<div class=\"toc\"><ul class=\"toc-item\"><li><span><a href=\"#Import-Things\" data-toc-modified-id=\"Import-Things-1\"><span class=\"toc-item-num\">1&nbsp;&nbsp;</span>Import Things</a></span></li><li><span><a href=\"#Anonymous-Funcitons\" data-toc-modified-id=\"Anonymous-Funcitons-2\"><span class=\"toc-item-num\">2&nbsp;&nbsp;</span>Anonymous Funcitons</a></span></li><li><span><a href=\"#Named-Functions\" data-toc-modified-id=\"Named-Functions-3\"><span class=\"toc-item-num\">3&nbsp;&nbsp;</span>Named Functions</a></span></li><li><span><a href=\"#Get-Geometry\" data-toc-modified-id=\"Get-Geometry-4\"><span class=\"toc-item-num\">4&nbsp;&nbsp;</span>Get Geometry</a></span></li><li><span><a href=\"#Compare-to-Literature\" data-toc-modified-id=\"Compare-to-Literature-5\"><span class=\"toc-item-num\">5&nbsp;&nbsp;</span>Compare to Literature</a></span><ul class=\"toc-item\"><li><ul class=\"toc-item\"><li><span><a href=\"#NOTE\" data-toc-modified-id=\"NOTE-5.0.1\"><span class=\"toc-item-num\">5.0.1&nbsp;&nbsp;</span>NOTE</a></span></li></ul></li></ul></li><li><span><a href=\"#Conclusion\" data-toc-modified-id=\"Conclusion-6\"><span class=\"toc-item-num\">6&nbsp;&nbsp;</span>Conclusion</a></span></li></ul></div>"
   ]
  },
  {
   "cell_type": "markdown",
   "metadata": {},
   "source": [
    "# Import Things"
   ]
  },
  {
   "cell_type": "code",
   "execution_count": 1,
   "metadata": {
    "ExecuteTime": {
     "end_time": "2019-07-14T15:46:23.779425Z",
     "start_time": "2019-07-14T15:46:21.262509Z"
    },
    "scrolled": false
   },
   "outputs": [
    {
     "data": {
      "text/html": [
       "<div>\n",
       "<style scoped>\n",
       "    .dataframe tbody tr th:only-of-type {\n",
       "        vertical-align: middle;\n",
       "    }\n",
       "\n",
       "    .dataframe tbody tr th {\n",
       "        vertical-align: top;\n",
       "    }\n",
       "\n",
       "    .dataframe thead th {\n",
       "        text-align: right;\n",
       "    }\n",
       "</style>\n",
       "<table border=\"1\" class=\"dataframe\">\n",
       "  <thead>\n",
       "    <tr style=\"text-align: right;\">\n",
       "      <th></th>\n",
       "      <th>A</th>\n",
       "      <th>B</th>\n",
       "      <th>angles</th>\n",
       "      <th>bonds</th>\n",
       "      <th>fill</th>\n",
       "      <th>system</th>\n",
       "    </tr>\n",
       "  </thead>\n",
       "  <tbody>\n",
       "    <tr>\n",
       "      <th>0</th>\n",
       "      <td>NaN</td>\n",
       "      <td>0</td>\n",
       "      <td>[105.36368698502989]</td>\n",
       "      <td>[0.973000878290579, 0.9730088347812262]</td>\n",
       "      <td>1000</td>\n",
       "      <td>beryl</td>\n",
       "    </tr>\n",
       "    <tr>\n",
       "      <th>1</th>\n",
       "      <td>NaN</td>\n",
       "      <td>1</td>\n",
       "      <td>[105.35087075683664]</td>\n",
       "      <td>[0.972962025117793, 0.9729614079942821]</td>\n",
       "      <td>1000</td>\n",
       "      <td>beryl</td>\n",
       "    </tr>\n",
       "    <tr>\n",
       "      <th>2</th>\n",
       "      <td>NaN</td>\n",
       "      <td>10</td>\n",
       "      <td>[105.34794212312683]</td>\n",
       "      <td>[0.9730240372869534, 0.9729868500532556]</td>\n",
       "      <td>1000</td>\n",
       "      <td>beryl</td>\n",
       "    </tr>\n",
       "    <tr>\n",
       "      <th>3</th>\n",
       "      <td>NaN</td>\n",
       "      <td>11</td>\n",
       "      <td>[105.51502522374619]</td>\n",
       "      <td>[0.9724294901907392, 0.9727270373876404]</td>\n",
       "      <td>1000</td>\n",
       "      <td>beryl</td>\n",
       "    </tr>\n",
       "    <tr>\n",
       "      <th>4</th>\n",
       "      <td>NaN</td>\n",
       "      <td>12</td>\n",
       "      <td>[105.31514572601299]</td>\n",
       "      <td>[0.9729075432648405, 0.9731076619050572]</td>\n",
       "      <td>1000</td>\n",
       "      <td>beryl</td>\n",
       "    </tr>\n",
       "  </tbody>\n",
       "</table>\n",
       "</div>"
      ],
      "text/plain": [
       "     A   B                angles                                     bonds  \\\n",
       "0  NaN   0  [105.36368698502989]   [0.973000878290579, 0.9730088347812262]   \n",
       "1  NaN   1  [105.35087075683664]   [0.972962025117793, 0.9729614079942821]   \n",
       "2  NaN  10  [105.34794212312683]  [0.9730240372869534, 0.9729868500532556]   \n",
       "3  NaN  11  [105.51502522374619]  [0.9724294901907392, 0.9727270373876404]   \n",
       "4  NaN  12  [105.31514572601299]  [0.9729075432648405, 0.9731076619050572]   \n",
       "\n",
       "   fill system  \n",
       "0  1000  beryl  \n",
       "1  1000  beryl  \n",
       "2  1000  beryl  \n",
       "3  1000  beryl  \n",
       "4  1000  beryl  "
      ]
     },
     "execution_count": 1,
     "metadata": {},
     "output_type": "execute_result"
    }
   ],
   "source": [
    "import pandas as pd \n",
    "import numpy as np\n",
    "import matplotlib.pyplot as plt\n",
    "import seaborn as sns\n",
    "import pickle as pkl\n",
    "import matplotlib.gridspec\n",
    "from scipy.stats import sem\n",
    "\n",
    "sns.set()\n",
    "\n",
    "with open(\"tidy_data/geometry_data.pkl\",\"rb\") as file_in:\n",
    "    raw_data = pkl.load(file_in)\n",
    "    \n",
    "raw_df = pd.DataFrame(raw_data)\n",
    "\n",
    "\n",
    "raw_df.head()"
   ]
  },
  {
   "cell_type": "markdown",
   "metadata": {},
   "source": [
    "# Anonymous Funcitons"
   ]
  },
  {
   "cell_type": "code",
   "execution_count": 2,
   "metadata": {
    "ExecuteTime": {
     "end_time": "2019-07-14T15:46:23.875074Z",
     "start_time": "2019-07-14T15:46:23.792619Z"
    },
    "scrolled": false
   },
   "outputs": [],
   "source": [
    "filter_by_system = lambda sys,df=raw_df: df[df.system==sys]\n",
    "filter_by_fill = lambda fill,df=raw_df: df[df.fill==str(fill)]\n",
    "flatten = lambda l: [j for i in l for j in i]\n",
    "#get_stats = lambda bd,an: [np.mean(bd),np.std(bd)/np.sqrt(len(bd)),np.mean(an),np.std(an)/np.sqrt(len(an))]\n",
    "get_stats = lambda bd,an: [np.mean(bd),sem(bd),np.mean(an),sem(an)]"
   ]
  },
  {
   "cell_type": "markdown",
   "metadata": {
    "ExecuteTime": {
     "end_time": "2019-07-13T18:51:53.640198Z",
     "start_time": "2019-07-13T18:51:53.559431Z"
    }
   },
   "source": [
    "# Named Functions\n"
   ]
  },
  {
   "cell_type": "code",
   "execution_count": 3,
   "metadata": {
    "ExecuteTime": {
     "end_time": "2019-07-14T15:46:23.976728Z",
     "start_time": "2019-07-14T15:46:23.893248Z"
    },
    "scrolled": true
   },
   "outputs": [],
   "source": [
    "def get_combined_errors(sys):\n",
    "    # These results come from combining the averages and variances correctly. Done by hand\n",
    "    if sys == \"beryl\":\n",
    "        b = 0.97294\n",
    "        a= 105.193\n",
    "        b_err = 0.00004\n",
    "        a_err = 0.012\n",
    "    else:\n",
    "        b = 0.97219\n",
    "        a = 104.36\n",
    "        b_err = 0.00005\n",
    "        a_err = 0.014\n",
    "    return b, b_err, a, a_err\n",
    "\n",
    "def get_geometry_data(sys):\n",
    "    in_df = filter_by_system(sys,df=raw_df)\n",
    "    fills = in_df.fill.unique().tolist()\n",
    "    results_df = pd.DataFrame(columns=\"bond_avg bond_err angle_avg angle_err\".split())\n",
    "    for fill in fills:\n",
    "        df = filter_by_fill(fill,df=in_df)\n",
    "        bonds = flatten(df.bonds.values)\n",
    "        angles = flatten(df.angles.values)\n",
    "        results_df.loc[fill] = get_stats(bonds,angles)\n",
    "\n",
    "    results_df['fill'] = [25,50,50,75,100]\n",
    "\n",
    "    results_df.head()\n",
    "    b, b_e, a, a_e = get_combined_errors(sys)\n",
    "\n",
    "    #Take the average of the two 50% fills.\n",
    "\n",
    "    merged_results_df = results_df.append(results_df[results_df.fill == 50].mean(axis=0),ignore_index=True)\n",
    "    merged_results_df.iloc[5,0] = b\n",
    "    merged_results_df.iloc[5,2] = a\n",
    "    merged_results_df.iloc[5,1] = b_e\n",
    "    merged_results_df.iloc[5,3] = a_e   \n",
    "    merged_results_df.drop([1,2],axis=0,inplace=True)\n",
    "    merged_results_df.fill.apply(int)\n",
    "    merged_results_df.sort_values(\"fill\",inplace=True)\n",
    "\n",
    "    return merged_results_df\n",
    "\n",
    "\n",
    "def make_plot():\n",
    "    sns.set(font_scale=1.5)\n",
    "    gs = matplotlib.gridspec.GridSpec(2,1)\n",
    "    fig = plt.figure(figsize=(15,15))\n",
    "    fig.suptitle(\"Geometry Optimization Results\",fontsize=20)\n",
    "    ax1 = plt.subplot(gs[0,0])\n",
    "    ax1.errorbar(beryl_results_df.fill.values,beryl_results_df.bond_avg.values,\n",
    "                 yerr=beryl_results_df.bond_err.values,label=\"Beryl\")\n",
    "    ax1.errorbar(vacuum_results_df.fill.values,vacuum_results_df.bond_avg.values,\n",
    "                 yerr=vacuum_results_df.bond_err.values,label=\"Vacuum\")\n",
    "    sns.lineplot(x=\"fill\",y=\"bond\",data=lit_df.beryl,ax=ax1,label=\"Lit. Vacuum\")\n",
    "    sns.lineplot(x=\"fill\",y=\"bond\",data=lit_df.vacuum,ax=ax1,label=\"Lit. Beryl\")\n",
    "    ax2 = plt.subplot(gs[1,0])\n",
    "    ##sns.lineplot(data=merged_results_df,x=\"fill\",y=\"angle_avg\",ax=ax2)\n",
    "    ax2.errorbar(beryl_results_df.fill.values,beryl_results_df.angle_avg.values,\n",
    "                 yerr=beryl_results_df.angle_err.values,label=\"Beryl\")\n",
    "    ax2.errorbar(vacuum_results_df.fill.values,vacuum_results_df.angle_avg.values,\n",
    "                 yerr=vacuum_results_df.angle_err.values,label=\"Vacuum\")\n",
    "    sns.lineplot(x=\"fill\",y=\"angle\",data=lit_df.beryl,ax=ax2,label=\"Lit. Beryl\")\n",
    "    sns.lineplot(x=\"fill\",y=\"angle\",data=lit_df.vacuum,ax=ax2,label=\"Lit. Vacuum\")\n",
    "    \n",
    "    ax1.set(ylabel=\"Bond [Ang]\")\n",
    "    ax2.set(ylabel=\"Angle [Deg]\")\n",
    "    ax2.set(xlabel=\"Fill [%]\")\n",
    "    ax1.legend(fontsize=12)\n",
    "    ax2.legend(fontsize=12)"
   ]
  },
  {
   "cell_type": "markdown",
   "metadata": {},
   "source": [
    "# Get Geometry"
   ]
  },
  {
   "cell_type": "code",
   "execution_count": 4,
   "metadata": {
    "ExecuteTime": {
     "end_time": "2019-07-14T15:46:24.190047Z",
     "start_time": "2019-07-14T15:46:23.981871Z"
    },
    "scrolled": true
   },
   "outputs": [],
   "source": [
    "beryl_results_df = get_geometry_data(\"beryl\")\n",
    "vacuum_results_df = get_geometry_data(\"vacuum\") \n",
    "\n"
   ]
  },
  {
   "cell_type": "code",
   "execution_count": 5,
   "metadata": {
    "ExecuteTime": {
     "end_time": "2019-07-14T15:46:24.209103Z",
     "start_time": "2019-07-14T15:46:24.192773Z"
    },
    "scrolled": false
   },
   "outputs": [
    {
     "data": {
      "text/html": [
       "<div>\n",
       "<style scoped>\n",
       "    .dataframe tbody tr th:only-of-type {\n",
       "        vertical-align: middle;\n",
       "    }\n",
       "\n",
       "    .dataframe tbody tr th {\n",
       "        vertical-align: top;\n",
       "    }\n",
       "\n",
       "    .dataframe thead th {\n",
       "        text-align: right;\n",
       "    }\n",
       "</style>\n",
       "<table border=\"1\" class=\"dataframe\">\n",
       "  <thead>\n",
       "    <tr style=\"text-align: right;\">\n",
       "      <th></th>\n",
       "      <th>bond_avg</th>\n",
       "      <th>bond_err</th>\n",
       "      <th>angle_avg</th>\n",
       "      <th>angle_err</th>\n",
       "      <th>fill</th>\n",
       "    </tr>\n",
       "  </thead>\n",
       "  <tbody>\n",
       "    <tr>\n",
       "      <th>0</th>\n",
       "      <td>0.972980</td>\n",
       "      <td>0.000029</td>\n",
       "      <td>105.352569</td>\n",
       "      <td>0.008699</td>\n",
       "      <td>25.0</td>\n",
       "    </tr>\n",
       "    <tr>\n",
       "      <th>5</th>\n",
       "      <td>0.972940</td>\n",
       "      <td>0.000040</td>\n",
       "      <td>105.193000</td>\n",
       "      <td>0.012000</td>\n",
       "      <td>50.0</td>\n",
       "    </tr>\n",
       "    <tr>\n",
       "      <th>3</th>\n",
       "      <td>0.973134</td>\n",
       "      <td>0.000039</td>\n",
       "      <td>105.085020</td>\n",
       "      <td>0.012542</td>\n",
       "      <td>75.0</td>\n",
       "    </tr>\n",
       "    <tr>\n",
       "      <th>4</th>\n",
       "      <td>0.973222</td>\n",
       "      <td>0.000064</td>\n",
       "      <td>104.805719</td>\n",
       "      <td>0.025302</td>\n",
       "      <td>100.0</td>\n",
       "    </tr>\n",
       "  </tbody>\n",
       "</table>\n",
       "</div>"
      ],
      "text/plain": [
       "   bond_avg  bond_err   angle_avg  angle_err   fill\n",
       "0  0.972980  0.000029  105.352569   0.008699   25.0\n",
       "5  0.972940  0.000040  105.193000   0.012000   50.0\n",
       "3  0.973134  0.000039  105.085020   0.012542   75.0\n",
       "4  0.973222  0.000064  104.805719   0.025302  100.0"
      ]
     },
     "execution_count": 5,
     "metadata": {},
     "output_type": "execute_result"
    }
   ],
   "source": [
    "beryl_results_df"
   ]
  },
  {
   "cell_type": "code",
   "execution_count": 6,
   "metadata": {
    "ExecuteTime": {
     "end_time": "2019-07-14T15:46:24.236557Z",
     "start_time": "2019-07-14T15:46:24.212714Z"
    },
    "scrolled": false
   },
   "outputs": [
    {
     "data": {
      "text/html": [
       "<div>\n",
       "<style scoped>\n",
       "    .dataframe tbody tr th:only-of-type {\n",
       "        vertical-align: middle;\n",
       "    }\n",
       "\n",
       "    .dataframe tbody tr th {\n",
       "        vertical-align: top;\n",
       "    }\n",
       "\n",
       "    .dataframe thead th {\n",
       "        text-align: right;\n",
       "    }\n",
       "</style>\n",
       "<table border=\"1\" class=\"dataframe\">\n",
       "  <thead>\n",
       "    <tr style=\"text-align: right;\">\n",
       "      <th></th>\n",
       "      <th>bond_avg</th>\n",
       "      <th>bond_err</th>\n",
       "      <th>angle_avg</th>\n",
       "      <th>angle_err</th>\n",
       "      <th>fill</th>\n",
       "    </tr>\n",
       "  </thead>\n",
       "  <tbody>\n",
       "    <tr>\n",
       "      <th>0</th>\n",
       "      <td>0.972124</td>\n",
       "      <td>0.000008</td>\n",
       "      <td>104.397901</td>\n",
       "      <td>0.004899</td>\n",
       "      <td>25.0</td>\n",
       "    </tr>\n",
       "    <tr>\n",
       "      <th>5</th>\n",
       "      <td>0.972190</td>\n",
       "      <td>0.000050</td>\n",
       "      <td>104.360000</td>\n",
       "      <td>0.014000</td>\n",
       "      <td>50.0</td>\n",
       "    </tr>\n",
       "    <tr>\n",
       "      <th>3</th>\n",
       "      <td>0.972283</td>\n",
       "      <td>0.000068</td>\n",
       "      <td>104.184631</td>\n",
       "      <td>0.025955</td>\n",
       "      <td>75.0</td>\n",
       "    </tr>\n",
       "    <tr>\n",
       "      <th>4</th>\n",
       "      <td>0.972519</td>\n",
       "      <td>0.000086</td>\n",
       "      <td>104.158806</td>\n",
       "      <td>0.023958</td>\n",
       "      <td>100.0</td>\n",
       "    </tr>\n",
       "  </tbody>\n",
       "</table>\n",
       "</div>"
      ],
      "text/plain": [
       "   bond_avg  bond_err   angle_avg  angle_err   fill\n",
       "0  0.972124  0.000008  104.397901   0.004899   25.0\n",
       "5  0.972190  0.000050  104.360000   0.014000   50.0\n",
       "3  0.972283  0.000068  104.184631   0.025955   75.0\n",
       "4  0.972519  0.000086  104.158806   0.023958  100.0"
      ]
     },
     "execution_count": 6,
     "metadata": {},
     "output_type": "execute_result"
    }
   ],
   "source": [
    "vacuum_results_df"
   ]
  },
  {
   "cell_type": "markdown",
   "metadata": {},
   "source": [
    "# Compare to Literature\n",
    "\n",
    "Here, the literature values are compared to [this work](https://aip.scitation.org/doi/10.1063/1.4882062). In that study, the crystal geometry was fixed to an experimental structure to compare the computational results to the experimental ones.\n",
    "\n"
   ]
  },
  {
   "cell_type": "code",
   "execution_count": 7,
   "metadata": {
    "ExecuteTime": {
     "end_time": "2019-07-14T15:46:24.289447Z",
     "start_time": "2019-07-14T15:46:24.243052Z"
    },
    "scrolled": false
   },
   "outputs": [
    {
     "data": {
      "text/html": [
       "<div>\n",
       "<style scoped>\n",
       "    .dataframe tbody tr th:only-of-type {\n",
       "        vertical-align: middle;\n",
       "    }\n",
       "\n",
       "    .dataframe tbody tr th {\n",
       "        vertical-align: top;\n",
       "    }\n",
       "\n",
       "    .dataframe thead th {\n",
       "        text-align: right;\n",
       "    }\n",
       "</style>\n",
       "<table border=\"1\" class=\"dataframe\">\n",
       "  <thead>\n",
       "    <tr style=\"text-align: right;\">\n",
       "      <th></th>\n",
       "      <th>beryl</th>\n",
       "      <th>vacuum</th>\n",
       "    </tr>\n",
       "  </thead>\n",
       "  <tbody>\n",
       "    <tr>\n",
       "      <th>angle</th>\n",
       "      <td>[105.07, 104.59]</td>\n",
       "      <td>[104.39, 104.33]</td>\n",
       "    </tr>\n",
       "    <tr>\n",
       "      <th>bond</th>\n",
       "      <td>[0.973, 0.973]</td>\n",
       "      <td>[0.972, 0.972]</td>\n",
       "    </tr>\n",
       "    <tr>\n",
       "      <th>fill</th>\n",
       "      <td>[50, 100]</td>\n",
       "      <td>[50, 100]</td>\n",
       "    </tr>\n",
       "  </tbody>\n",
       "</table>\n",
       "</div>"
      ],
      "text/plain": [
       "                  beryl            vacuum\n",
       "angle  [105.07, 104.59]  [104.39, 104.33]\n",
       "bond     [0.973, 0.973]    [0.972, 0.972]\n",
       "fill          [50, 100]         [50, 100]"
      ]
     },
     "execution_count": 7,
     "metadata": {},
     "output_type": "execute_result"
    }
   ],
   "source": [
    "lit_values = {'beryl': {\"bond\":[0.973,0.973],\"angle\":[105.07,104.59],\"fill\":[50,100]},\n",
    "              'vacuum': {\"bond\":[0.972,0.972],\"angle\":[104.39,104.33],\"fill\":[50,100]}}\n",
    "lit_df = pd.DataFrame(lit_values)\n",
    "lit_df.head()\n"
   ]
  },
  {
   "cell_type": "code",
   "execution_count": 8,
   "metadata": {
    "ExecuteTime": {
     "end_time": "2019-07-14T15:46:25.371108Z",
     "start_time": "2019-07-14T15:46:24.308804Z"
    },
    "scrolled": false
   },
   "outputs": [
    {
     "data": {
      "image/png": "[encoded data removed]",
      "text/plain": [
       "<Figure size 1080x1080 with 2 Axes>"
      ]
     },
     "metadata": {},
     "output_type": "display_data"
    }
   ],
   "source": [
    "make_plot()"
   ]
  },
  {
   "cell_type": "markdown",
   "metadata": {},
   "source": [
    "### NOTE\n",
    "\n",
    "The error comes from the standard error of the mean."
   ]
  },
  {
   "cell_type": "markdown",
   "metadata": {
    "ExecuteTime": {
     "end_time": "2019-07-14T15:27:29.341516Z",
     "start_time": "2019-07-14T15:27:29.338778Z"
    }
   },
   "source": [
    "# Conclusion"
   ]
  },
  {
   "cell_type": "markdown",
   "metadata": {},
   "source": [
    "1. Good agreement with literature\n",
    "    - Especially considering they used a smaller unit cell\n",
    "2. Crystal affect geoemtry\n",
    "    - \"Expands\" water molcule \n",
    "3. Use fill specific geometry moving forward\n",
    "\n",
    "Deviations from trends at 50% fill likely due to 2-fold degeneracy. As unit cell becomes larger, and so does this degeneracy, the aggregate values should come in line more with trends."
   ]
  },
  {
   "cell_type": "code",
   "execution_count": null,
   "metadata": {},
   "outputs": [],
   "source": []
  }
 ],
 "metadata": {
  "hide_input": false,
  "kernelspec": {
   "display_name": "Python 3",
   "language": "python",
   "name": "python3"
  },
  "language_info": {
   "codemirror_mode": {
    "name": "ipython",
    "version": 3
   },
   "file_extension": ".py",
   "mimetype": "text/x-python",
   "name": "python",
   "nbconvert_exporter": "python",
   "pygments_lexer": "ipython3",
   "version": "3.7.3"
  },
  "toc": {
   "base_numbering": 1,
   "nav_menu": {},
   "number_sections": true,
   "sideBar": true,
   "skip_h1_title": false,
   "title_cell": "Table of Contents",
   "title_sidebar": "Contents",
   "toc_cell": true,
   "toc_position": {},
   "toc_section_display": true,
   "toc_window_display": true
  },
  "varInspector": {
   "cols": {
    "lenName": 16,
    "lenType": 16,
    "lenVar": 40
   },
   "kernels_config": {
    "python": {
     "delete_cmd_postfix": "",
     "delete_cmd_prefix": "del ",
     "library": "var_list.py",
     "varRefreshCmd": "print(var_dic_list())"
    },
    "r": {
     "delete_cmd_postfix": ") ",
     "delete_cmd_prefix": "rm(",
     "library": "var_list.r",
     "varRefreshCmd": "cat(var_dic_list()) "
    }
   },
   "types_to_exclude": [
    "module",
    "function",
    "builtin_function_or_method",
    "instance",
    "_Feature"
   ],
   "window_display": true
  }
 },
 "nbformat": 4,
 "nbformat_minor": 2
}
