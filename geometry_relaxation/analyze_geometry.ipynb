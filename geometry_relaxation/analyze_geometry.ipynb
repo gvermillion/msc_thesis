{
 "cells": [
  {
   "cell_type": "markdown",
   "metadata": {
    "toc": true
   },
   "source": [
    "<h1>Table of Contents<span class=\"tocSkip\"></span></h1>\n",
    "<div class=\"toc\"><ul class=\"toc-item\"><li><span><a href=\"#Import-Things\" data-toc-modified-id=\"Import-Things-1\"><span class=\"toc-item-num\">1&nbsp;&nbsp;</span>Import Things</a></span></li><li><span><a href=\"#Anonymous-Funcitons\" data-toc-modified-id=\"Anonymous-Funcitons-2\"><span class=\"toc-item-num\">2&nbsp;&nbsp;</span>Anonymous Funcitons</a></span></li><li><span><a href=\"#Named-Functions\" data-toc-modified-id=\"Named-Functions-3\"><span class=\"toc-item-num\">3&nbsp;&nbsp;</span>Named Functions</a></span></li></ul></div>"
   ]
  },
  {
   "cell_type": "markdown",
   "metadata": {},
   "source": [
    "# Import Things"
   ]
  },
  {
   "cell_type": "code",
   "execution_count": 256,
   "metadata": {
    "ExecuteTime": {
     "end_time": "2019-07-13T19:50:25.049291Z",
     "start_time": "2019-07-13T19:50:25.012887Z"
    }
   },
   "outputs": [
    {
     "data": {
      "text/html": [
       "<div>\n",
       "<style scoped>\n",
       "    .dataframe tbody tr th:only-of-type {\n",
       "        vertical-align: middle;\n",
       "    }\n",
       "\n",
       "    .dataframe tbody tr th {\n",
       "        vertical-align: top;\n",
       "    }\n",
       "\n",
       "    .dataframe thead th {\n",
       "        text-align: right;\n",
       "    }\n",
       "</style>\n",
       "<table border=\"1\" class=\"dataframe\">\n",
       "  <thead>\n",
       "    <tr style=\"text-align: right;\">\n",
       "      <th></th>\n",
       "      <th>A</th>\n",
       "      <th>B</th>\n",
       "      <th>angles</th>\n",
       "      <th>bonds</th>\n",
       "      <th>fill</th>\n",
       "    </tr>\n",
       "  </thead>\n",
       "  <tbody>\n",
       "    <tr>\n",
       "      <th>0</th>\n",
       "      <td>NaN</td>\n",
       "      <td>0</td>\n",
       "      <td>[105.36368698502989]</td>\n",
       "      <td>[0.973000878290579, 0.9730088347812262]</td>\n",
       "      <td>1000</td>\n",
       "    </tr>\n",
       "    <tr>\n",
       "      <th>1</th>\n",
       "      <td>NaN</td>\n",
       "      <td>1</td>\n",
       "      <td>[105.35087075683664]</td>\n",
       "      <td>[0.972962025117793, 0.9729614079942821]</td>\n",
       "      <td>1000</td>\n",
       "    </tr>\n",
       "    <tr>\n",
       "      <th>2</th>\n",
       "      <td>NaN</td>\n",
       "      <td>10</td>\n",
       "      <td>[105.34794212312683]</td>\n",
       "      <td>[0.9730240372869534, 0.9729868500532556]</td>\n",
       "      <td>1000</td>\n",
       "    </tr>\n",
       "    <tr>\n",
       "      <th>3</th>\n",
       "      <td>NaN</td>\n",
       "      <td>11</td>\n",
       "      <td>[105.51502522374619]</td>\n",
       "      <td>[0.9724294901907392, 0.9727270373876404]</td>\n",
       "      <td>1000</td>\n",
       "    </tr>\n",
       "    <tr>\n",
       "      <th>4</th>\n",
       "      <td>NaN</td>\n",
       "      <td>12</td>\n",
       "      <td>[105.31514572601299]</td>\n",
       "      <td>[0.9729075432648405, 0.9731076619050572]</td>\n",
       "      <td>1000</td>\n",
       "    </tr>\n",
       "  </tbody>\n",
       "</table>\n",
       "</div>"
      ],
      "text/plain": [
       "     A   B                angles                                     bonds  \\\n",
       "0  NaN   0  [105.36368698502989]   [0.973000878290579, 0.9730088347812262]   \n",
       "1  NaN   1  [105.35087075683664]   [0.972962025117793, 0.9729614079942821]   \n",
       "2  NaN  10  [105.34794212312683]  [0.9730240372869534, 0.9729868500532556]   \n",
       "3  NaN  11  [105.51502522374619]  [0.9724294901907392, 0.9727270373876404]   \n",
       "4  NaN  12  [105.31514572601299]  [0.9729075432648405, 0.9731076619050572]   \n",
       "\n",
       "   fill  \n",
       "0  1000  \n",
       "1  1000  \n",
       "2  1000  \n",
       "3  1000  \n",
       "4  1000  "
      ]
     },
     "execution_count": 256,
     "metadata": {},
     "output_type": "execute_result"
    }
   ],
   "source": [
    "import pandas as pd \n",
    "import numpy as np\n",
    "import matplotlib.pyplot as plt\n",
    "import seaborn as sns\n",
    "import pickle as pkl\n",
    "import matplotlib.gridspec\n",
    "\n",
    "sns.set()\n",
    "\n",
    "with open(\"tidy_output/geometry_data.pkl\",\"rb\") as file_in:\n",
    "    raw_data = pkl.load(file_in)\n",
    "    \n",
    "raw_df = pd.DataFrame(raw_data)\n",
    "\n",
    "\n",
    "raw_df.head()"
   ]
  },
  {
   "cell_type": "markdown",
   "metadata": {},
   "source": [
    "# Anonymous Funcitons"
   ]
  },
  {
   "cell_type": "code",
   "execution_count": 226,
   "metadata": {
    "ExecuteTime": {
     "end_time": "2019-07-13T19:43:38.270177Z",
     "start_time": "2019-07-13T19:43:38.264119Z"
    }
   },
   "outputs": [],
   "source": [
    "filter_by_fill = lambda fill,df=raw_df: df[df.fill==str(fill)]\n",
    "flatten = lambda l: [j for i in l for j in i]\n",
    "get_stats = lambda bd,an: [np.mean(bd),np.std(bd)/np.sqrt(len(bd)),np.mean(an),np.std(an)/np.sqrt(len(an))]"
   ]
  },
  {
   "cell_type": "markdown",
   "metadata": {
    "ExecuteTime": {
     "end_time": "2019-07-13T18:51:53.640198Z",
     "start_time": "2019-07-13T18:51:53.559431Z"
    }
   },
   "source": [
    "# Named Functions\n"
   ]
  },
  {
   "cell_type": "code",
   "execution_count": null,
   "metadata": {},
   "outputs": [],
   "source": []
  },
  {
   "cell_type": "code",
   "execution_count": 301,
   "metadata": {
    "ExecuteTime": {
     "end_time": "2019-07-13T20:05:26.176706Z",
     "start_time": "2019-07-13T20:05:26.134850Z"
    }
   },
   "outputs": [
    {
     "data": {
      "text/html": [
       "<div>\n",
       "<style scoped>\n",
       "    .dataframe tbody tr th:only-of-type {\n",
       "        vertical-align: middle;\n",
       "    }\n",
       "\n",
       "    .dataframe tbody tr th {\n",
       "        vertical-align: top;\n",
       "    }\n",
       "\n",
       "    .dataframe thead th {\n",
       "        text-align: right;\n",
       "    }\n",
       "</style>\n",
       "<table border=\"1\" class=\"dataframe\">\n",
       "  <thead>\n",
       "    <tr style=\"text-align: right;\">\n",
       "      <th></th>\n",
       "      <th>bond_avg</th>\n",
       "      <th>bond_err</th>\n",
       "      <th>angle_avg</th>\n",
       "      <th>angle_err</th>\n",
       "      <th>fill</th>\n",
       "    </tr>\n",
       "  </thead>\n",
       "  <tbody>\n",
       "    <tr>\n",
       "      <th>1000</th>\n",
       "      <td>0.972980</td>\n",
       "      <td>0.000029</td>\n",
       "      <td>105.352569</td>\n",
       "      <td>0.008552</td>\n",
       "      <td>25</td>\n",
       "    </tr>\n",
       "    <tr>\n",
       "      <th>1010</th>\n",
       "      <td>0.973016</td>\n",
       "      <td>0.000011</td>\n",
       "      <td>105.341893</td>\n",
       "      <td>0.007274</td>\n",
       "      <td>50</td>\n",
       "    </tr>\n",
       "    <tr>\n",
       "      <th>1100</th>\n",
       "      <td>0.972947</td>\n",
       "      <td>0.000041</td>\n",
       "      <td>105.168523</td>\n",
       "      <td>0.013050</td>\n",
       "      <td>50</td>\n",
       "    </tr>\n",
       "    <tr>\n",
       "      <th>1110</th>\n",
       "      <td>0.973134</td>\n",
       "      <td>0.000039</td>\n",
       "      <td>105.085020</td>\n",
       "      <td>0.012528</td>\n",
       "      <td>75</td>\n",
       "    </tr>\n",
       "    <tr>\n",
       "      <th>1111</th>\n",
       "      <td>0.973222</td>\n",
       "      <td>0.000064</td>\n",
       "      <td>104.805719</td>\n",
       "      <td>0.025258</td>\n",
       "      <td>100</td>\n",
       "    </tr>\n",
       "  </tbody>\n",
       "</table>\n",
       "</div>"
      ],
      "text/plain": [
       "      bond_avg  bond_err   angle_avg  angle_err  fill\n",
       "1000  0.972980  0.000029  105.352569   0.008552    25\n",
       "1010  0.973016  0.000011  105.341893   0.007274    50\n",
       "1100  0.972947  0.000041  105.168523   0.013050    50\n",
       "1110  0.973134  0.000039  105.085020   0.012528    75\n",
       "1111  0.973222  0.000064  104.805719   0.025258   100"
      ]
     },
     "execution_count": 301,
     "metadata": {},
     "output_type": "execute_result"
    }
   ],
   "source": [
    "\n",
    "fills = raw_df.fill.unique().tolist()\n",
    "results_df = pd.DataFrame(columns=\"bond_avg bond_err angle_avg angle_err\".split())\n",
    "for fill in fills:\n",
    "    df = filter_by_fill(fill)\n",
    "    bonds = flatten(df.bonds.values)\n",
    "    angles = flatten(df.angles.values)\n",
    "    results_df.loc[fill] = get_stats(bonds,angles)\n",
    "\n",
    "results_df['fill'] = [25,50,50,75,100]\n",
    "\n",
    "results_df.head()"
   ]
  },
  {
   "cell_type": "markdown",
   "metadata": {},
   "source": [
    "Take the average of the two 50% fills."
   ]
  },
  {
   "cell_type": "code",
   "execution_count": 302,
   "metadata": {
    "ExecuteTime": {
     "end_time": "2019-07-13T20:05:27.856090Z",
     "start_time": "2019-07-13T20:05:27.845512Z"
    }
   },
   "outputs": [],
   "source": [
    "merged_results_df = results_df.append(results_df[results_df.fill == 50].mean(axis=0),ignore_index=True)\n",
    "merged_results_df.drop([1,2],axis=0,inplace=True)\n",
    "merged_results_df.fill.apply(int)\n",
    "merged_results_df.sort_values(\"fill\",inplace=True)"
   ]
  },
  {
   "cell_type": "code",
   "execution_count": 303,
   "metadata": {
    "ExecuteTime": {
     "end_time": "2019-07-13T20:05:28.394470Z",
     "start_time": "2019-07-13T20:05:28.383544Z"
    }
   },
   "outputs": [
    {
     "data": {
      "text/html": [
       "<div>\n",
       "<style scoped>\n",
       "    .dataframe tbody tr th:only-of-type {\n",
       "        vertical-align: middle;\n",
       "    }\n",
       "\n",
       "    .dataframe tbody tr th {\n",
       "        vertical-align: top;\n",
       "    }\n",
       "\n",
       "    .dataframe thead th {\n",
       "        text-align: right;\n",
       "    }\n",
       "</style>\n",
       "<table border=\"1\" class=\"dataframe\">\n",
       "  <thead>\n",
       "    <tr style=\"text-align: right;\">\n",
       "      <th></th>\n",
       "      <th>bond_avg</th>\n",
       "      <th>bond_err</th>\n",
       "      <th>angle_avg</th>\n",
       "      <th>angle_err</th>\n",
       "      <th>fill</th>\n",
       "    </tr>\n",
       "  </thead>\n",
       "  <tbody>\n",
       "    <tr>\n",
       "      <th>0</th>\n",
       "      <td>0.972980</td>\n",
       "      <td>0.000029</td>\n",
       "      <td>105.352569</td>\n",
       "      <td>0.008552</td>\n",
       "      <td>25.0</td>\n",
       "    </tr>\n",
       "    <tr>\n",
       "      <th>5</th>\n",
       "      <td>0.972981</td>\n",
       "      <td>0.000026</td>\n",
       "      <td>105.255208</td>\n",
       "      <td>0.010162</td>\n",
       "      <td>50.0</td>\n",
       "    </tr>\n",
       "    <tr>\n",
       "      <th>3</th>\n",
       "      <td>0.973134</td>\n",
       "      <td>0.000039</td>\n",
       "      <td>105.085020</td>\n",
       "      <td>0.012528</td>\n",
       "      <td>75.0</td>\n",
       "    </tr>\n",
       "    <tr>\n",
       "      <th>4</th>\n",
       "      <td>0.973222</td>\n",
       "      <td>0.000064</td>\n",
       "      <td>104.805719</td>\n",
       "      <td>0.025258</td>\n",
       "      <td>100.0</td>\n",
       "    </tr>\n",
       "  </tbody>\n",
       "</table>\n",
       "</div>"
      ],
      "text/plain": [
       "   bond_avg  bond_err   angle_avg  angle_err   fill\n",
       "0  0.972980  0.000029  105.352569   0.008552   25.0\n",
       "5  0.972981  0.000026  105.255208   0.010162   50.0\n",
       "3  0.973134  0.000039  105.085020   0.012528   75.0\n",
       "4  0.973222  0.000064  104.805719   0.025258  100.0"
      ]
     },
     "execution_count": 303,
     "metadata": {},
     "output_type": "execute_result"
    }
   ],
   "source": [
    "merged_results_df.head()"
   ]
  },
  {
   "cell_type": "code",
   "execution_count": 304,
   "metadata": {
    "ExecuteTime": {
     "end_time": "2019-07-13T20:05:28.971139Z",
     "start_time": "2019-07-13T20:05:28.958577Z"
    }
   },
   "outputs": [
    {
     "data": {
      "text/html": [
       "<div>\n",
       "<style scoped>\n",
       "    .dataframe tbody tr th:only-of-type {\n",
       "        vertical-align: middle;\n",
       "    }\n",
       "\n",
       "    .dataframe tbody tr th {\n",
       "        vertical-align: top;\n",
       "    }\n",
       "\n",
       "    .dataframe thead th {\n",
       "        text-align: right;\n",
       "    }\n",
       "</style>\n",
       "<table border=\"1\" class=\"dataframe\">\n",
       "  <thead>\n",
       "    <tr style=\"text-align: right;\">\n",
       "      <th></th>\n",
       "      <th>bond</th>\n",
       "      <th>angle</th>\n",
       "      <th>fill</th>\n",
       "    </tr>\n",
       "  </thead>\n",
       "  <tbody>\n",
       "    <tr>\n",
       "      <th>0</th>\n",
       "      <td>0.973</td>\n",
       "      <td>105.07</td>\n",
       "      <td>50</td>\n",
       "    </tr>\n",
       "    <tr>\n",
       "      <th>1</th>\n",
       "      <td>0.973</td>\n",
       "      <td>104.59</td>\n",
       "      <td>100</td>\n",
       "    </tr>\n",
       "  </tbody>\n",
       "</table>\n",
       "</div>"
      ],
      "text/plain": [
       "    bond   angle  fill\n",
       "0  0.973  105.07    50\n",
       "1  0.973  104.59   100"
      ]
     },
     "execution_count": 304,
     "metadata": {},
     "output_type": "execute_result"
    }
   ],
   "source": [
    "lit_values = {\"bond\":[0.973,0.973],\"angle\":[105.07,104.59],\"fill\":[50,100]}\n",
    "lit_df = pd.DataFrame(lit_values)\n",
    "lit_df.head()"
   ]
  },
  {
   "cell_type": "code",
   "execution_count": 310,
   "metadata": {
    "ExecuteTime": {
     "end_time": "2019-07-13T20:06:15.183613Z",
     "start_time": "2019-07-13T20:06:14.630615Z"
    }
   },
   "outputs": [
    {
     "data": {
      "text/plain": [
       "<matplotlib.axes._subplots.AxesSubplot at 0x1a3a7077f0>"
      ]
     },
     "execution_count": 310,
     "metadata": {},
     "output_type": "execute_result"
    },
    {
     "data": {
      "image/png": "[encoded data removed]",
      "text/plain": [
       "<Figure size 864x864 with 2 Axes>"
      ]
     },
     "metadata": {},
     "output_type": "display_data"
    }
   ],
   "source": [
    "gs = matplotlib.gridspec.GridSpec(2,1)\n",
    "fig = plt.figure(figsize=(12,12))\n",
    "ax1 = plt.subplot(gs[0,0])\n",
    "plt.errorbar(merged_results_df.fill.values,merged_results_df.bond_avg.values,yerr=merged_results_df.bond_err.values)\n",
    "sns.lineplot(x=\"fill\",y=\"bond\",data=lit_df,ax=ax1)\n",
    "ax2 = plt.subplot(gs[1,0])\n",
    "#sns.lineplot(data=merged_results_df,x=\"fill\",y=\"angle_avg\",ax=ax2)\n",
    "plt.errorbar(merged_results_df.fill.values,merged_results_df.angle_avg.values,yerr=merged_results_df.angle_err.values)\n",
    "sns.lineplot(x=\"fill\",y=\"angle\",data=lit_df,ax=ax2)"
   ]
  },
  {
   "cell_type": "code",
   "execution_count": 278,
   "metadata": {
    "ExecuteTime": {
     "end_time": "2019-07-13T20:00:18.092093Z",
     "start_time": "2019-07-13T20:00:18.078412Z"
    }
   },
   "outputs": [
    {
     "data": {
      "text/plain": [
       "array([ 25.,  75., 100.,  50.])"
      ]
     },
     "execution_count": 278,
     "metadata": {},
     "output_type": "execute_result"
    }
   ],
   "source": [
    "merged_results_df.fill.values"
   ]
  },
  {
   "cell_type": "code",
   "execution_count": null,
   "metadata": {},
   "outputs": [],
   "source": []
  }
 ],
 "metadata": {
  "hide_input": false,
  "kernelspec": {
   "display_name": "Python 3",
   "language": "python",
   "name": "python3"
  },
  "language_info": {
   "codemirror_mode": {
    "name": "ipython",
    "version": 3
   },
   "file_extension": ".py",
   "mimetype": "text/x-python",
   "name": "python",
   "nbconvert_exporter": "python",
   "pygments_lexer": "ipython3",
   "version": "3.7.3"
  },
  "toc": {
   "base_numbering": 1,
   "nav_menu": {},
   "number_sections": true,
   "sideBar": true,
   "skip_h1_title": false,
   "title_cell": "Table of Contents",
   "title_sidebar": "Contents",
   "toc_cell": true,
   "toc_position": {},
   "toc_section_display": true,
   "toc_window_display": true
  },
  "varInspector": {
   "cols": {
    "lenName": 16,
    "lenType": 16,
    "lenVar": 40
   },
   "kernels_config": {
    "python": {
     "delete_cmd_postfix": "",
     "delete_cmd_prefix": "del ",
     "library": "var_list.py",
     "varRefreshCmd": "print(var_dic_list())"
    },
    "r": {
     "delete_cmd_postfix": ") ",
     "delete_cmd_prefix": "rm(",
     "library": "var_list.r",
     "varRefreshCmd": "cat(var_dic_list()) "
    }
   },
   "types_to_exclude": [
    "module",
    "function",
    "builtin_function_or_method",
    "instance",
    "_Feature"
   ],
   "window_display": true
  }
 },
 "nbformat": 4,
 "nbformat_minor": 2
}
